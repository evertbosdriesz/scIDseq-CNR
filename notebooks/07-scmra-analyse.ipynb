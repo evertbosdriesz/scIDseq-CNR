{
 "cells": [
  {
   "cell_type": "markdown",
   "metadata": {
    "toc-hr-collapsed": false
   },
   "source": [
    "# Analysis of scCNR reconstruction\n",
    "\n",
    "In this notebook we analyze and interpret the CNR results obtained in the notebook 06-scmra-full-model.ipynb\n",
    "\n",
    "For now, we focus on the CNR analysis where we compared all cell states with each other. Later, we might also focus on Cluster 5 vs all other clusters.\n",
    "\n",
    "We have obtained:\n",
    "\n",
    "  * A scan over different values of $\\theta$, from which we concluded that $\\theta=0.2$ gives a good model complexity.\n",
    "  * Sample permutation which can be used to obtain the distribution of edge strengths (and their difference from the population mean). \n",
    "  These permutations were constructed such that the number of cells, and the distribution of treatments, remained intact and only the cell-state cluster assignment for each cell was randomized."
   ]
  },
  {
   "cell_type": "code",
   "execution_count": 26,
   "metadata": {},
   "outputs": [],
   "source": [
    "import pandas as pd\n",
    "import numpy as np\n",
    "import scipy\n",
    "import seaborn as sns\n",
    "import matplotlib\n",
    "import matplotlib.pyplot as plt\n",
    "import matplotlib.collections\n",
    "import matplotlib.patches as mpatches\n",
    "import scmra\n",
    "import networkx as nx\n",
    "import random\n",
    "import itertools\n",
    "import pickle\n",
    "import cplex\n",
    "import statsmodels.stats.multitest\n",
    "\n",
    "\n",
    "# Temporary fix for autocompletion. See this issue \n",
    "# https://github.com/conda-forge/conda-forge-repodata-patches-feedstock/issues/81#event-3664361521\n",
    "%config Completer.use_jedi = False\n",
    "\n",
    "# Fix some font issues\n",
    "matplotlib.rcParams['pdf.fonttype'] = 42\n",
    "matplotlib.rcParams['ps.fonttype'] = 42\n",
    "#matplotlib.rcParams.update({'figure.autolayout': True})\n",
    "plt.rcParams['font.sans-serif'] = \"Helvetica\"\n",
    "plt.rcParams['font.family'] = \"sans-serif\"\n",
    "sns.set_context(\"notebook\")\n",
    "\n",
    "matplotlib.rc('xtick', labelsize=6) \n",
    "matplotlib.rc('ytick', labelsize=6) \n",
    "matplotlib.rc('axes', labelsize=8) \n",
    "matplotlib.rc('legend',**{'fontsize':6})\n",
    "\n"
   ]
  },
  {
   "cell_type": "markdown",
   "metadata": {},
   "source": [
    "## MRA"
   ]
  },
  {
   "cell_type": "code",
   "execution_count": 27,
   "metadata": {},
   "outputs": [],
   "source": [
    "with open('../results/full-network-mra-eta-scan.pickle', 'rb') as f:\n",
    "    sol_mra_eta = pickle.load(f)\n",
    "    \n",
    "with open('../results/mra_random_network_mssr.txt', 'r') as f:\n",
    "    random_mssr = [float(x) for x in f.read().splitlines()]\n",
    "\n",
    "with open('../results/mra_random_network_mssr-batch2.txt', 'r') as f:\n",
    "    tmp = [float(x) for x in f.read().splitlines()]\n",
    "    random_mssr += tmp\n",
    "\n",
    "sol_mra = sol_mra_eta[0.6]"
   ]
  },
  {
   "cell_type": "code",
   "execution_count": 28,
   "metadata": {},
   "outputs": [
    {
     "data": {
      "image/png": "[encoded data removed]",
      "text/plain": [
       "<Figure size 180x180 with 1 Axes>"
      ]
     },
     "metadata": {
      "needs_background": "light"
     },
     "output_type": "display_data"
    }
   ],
   "source": [
    "fig, ax = plt.subplots()\n",
    "fig.set_size_inches(2.5, 2.5);\n",
    "plt.hist(random_mssr, bins=20, color=\"gray\");\n",
    "plt.axvline(sol_mra.mssr, color=\"red\");\n",
    "plt.xlabel(\"RMSE\");\n",
    "plt.tight_layout()\n",
    "#plt.savefig(\"../figures/scIDseq/CNR/mra-rmse-random-network.pdf\")"
   ]
  },
  {
   "cell_type": "markdown",
   "metadata": {},
   "source": [
    "## CNR"
   ]
  },
  {
   "cell_type": "code",
   "execution_count": 38,
   "metadata": {},
   "outputs": [],
   "source": [
    "with open('../results/theta-scan.pickle', 'rb') as f:\n",
    "    sols_theta = pickle.load(f)\n",
    "    \n",
    "# Data frame with all nodes that have a significant interaction term\n",
    "df_ia = pd.read_csv(\"../results/treatment_cellstate_interactions_anova.tsv\", sep=\"\\t\")\n",
    "\n",
    "sol_ref = sols_theta[0.2]\n",
    "\n",
    "sol_ref.deviations_overview.to_csv(\"../results/CNR-solution-deviation-overview.tsv\", sep=\"\\t\")"
   ]
  },
  {
   "cell_type": "code",
   "execution_count": 33,
   "metadata": {},
   "outputs": [],
   "source": [
    "# verview of deviations from mean of the solution in long/tidy form\n",
    "sol_dev_tidy = sol_ref.deviations_overview.sub(sol_ref.deviations_overview[\"mean\"], axis=0)\n",
    "sol_dev_tidy = sol_dev_tidy.drop('mean', axis=1)\n",
    "sol_dev_tidy = sol_dev_tidy.melt(var_name = \"Cluster\", value_name = \"Deviation\", ignore_index=False)\n",
    "sol_dev_tidy['Edge'] = sol_dev_tidy.index\n",
    "sol_dev_tidy = sol_dev_tidy[['Edge', \"Cluster\", \"Deviation\"]]"
   ]
  },
  {
   "cell_type": "code",
   "execution_count": 6,
   "metadata": {},
   "outputs": [],
   "source": [
    "ab_mapping_phospho = {\n",
    "    # Phospho-antibodies\n",
    "    # MAPK\n",
    "    \"EGFR_P_Y1045\": \"EGFRY1045\", \"EGFR_P_Y1173\": \"EGFRY1173\",\n",
    "    \"ERK1_2_P\": \"ERK12\",\n",
    "    \"RSK1_P_T359\": \"RSK1T359\", # \"RSK1_P_S380\": \"RSK1S380\", \n",
    "    #AKT\n",
    "    \"AKT1_P\": \"AKT1\", \"AKT123_P\": \"AKT123\",\n",
    "    \"MTOR_P\": \"MTOR\",\n",
    "    \"GSK3B_P\": \"GSK3B\",\n",
    "    \"RIBOSOMAL_S6_P\": \"RPS6\", \"RB_P\": \"RB\",\n",
    "     # Other\n",
    "    \"JNK_P\": \"JNK\", \"CJUN_P\": \"CJUN\",\n",
    "    # FAK (ITGB1 is not a phospho, but treated as input node (all incoming edges = 0))\n",
    "    \"ITGB1\": \"ITGB1\", 'SRC_P': \"SRC\", 'FAK_P': \"FAK\",\n",
    "    # JAK-STAT  \n",
    "    \"JAK1_P\": \"JAK1\", \"STAT1_P\": \"STAT1\", \"STAT3_P\": \"STAT3\", \"STAT5_P\": \"STAT5\",\n",
    "    # WNT\n",
    "    \"LRP6_P\": \"LRP6\", \"FRIZZLED_3\": \"FZD\",\n",
    "     # SMAD\n",
    "    \"BMP2_4\": \"BMP\", \"BMPRII\": \"BMPR\", \"SMAD1_5_9_P\": \"SMAD159\", \n",
    "    \"SMAD1_5_P\": \"SMAD15\", \"SMAD2_3_P\": \"SMAD23\",\n",
    "    # MKK3\n",
    "    \"MKK3_6_P\": \"MKK36\", \"MAPK_P38_P\": \"P38\", \"MAPK_P38_P2\": \"P38D\",\n",
    "    \"MAPK_APK2_P\": \"MAPKAP2\",  \"CREB_P\": \"CREB\",\n",
    "    # TNFalpa\n",
    "    'IKBA_P': \"IKBA\", 'NFKB_P65_P': \"P65\", \"RELA_P\": \"RELA\",\n",
    "    # Output nodes\n",
    "    \"CMYC\": \"CMYC\", \"CFOS_P\": \"CFOS\", # Not a phospho-p, but \"activated\" by pRSK\n",
    "    \"CDC2\": \"CDC2\", \"CDK4\": \"CDK4\", \"CYCLIN_E\": \"CYCLINE\", \"CYCLIN_B1\": \"CYCLINB1\", \n",
    "    \"H2A_P\": \"H2A\", \"H3_P\": \"H3\",  \"RB_P\": \"RB\",\n",
    "}\n",
    "\n",
    "\n",
    "# Map to nodes.\n",
    "ab_mapping_tot = {    \n",
    "    # Total protein antibodies \n",
    "    \"ERK1_2\": \"ERK12\",\n",
    "    \"AKT2\": [\"AKT1\", \"AKT123\"], \n",
    "    \"JNK\": \"JNK\", \n",
    "    \"SRC\": \"SRC\", \"FAK\": \"FAK\",\n",
    "    \"JAK1\": \"JAK1\", \"STAT1\": \"STAT1\",\n",
    "    \"SMAD1\": [\"SMAD159\", \"SMAD15\"], \"SMAD3\": \"SMAD23\",\n",
    "    \"IKBA\": \"IKBA\",\n",
    "    \"RELA\": \"RELA\"\n",
    "}"
   ]
  },
  {
   "cell_type": "code",
   "execution_count": 7,
   "metadata": {},
   "outputs": [],
   "source": [
    "dev_edges = set([tuple(i.split(\"_\")[1:]) for i,j in sol_ref.allowed_deviations.items() \\\n",
    "                if (i.startswith(\"IDev\") and j == 1)])\n",
    "all_edges = set([tuple(key.split(\"_\")[1:]) for key, val in sol_ref.vardict.items() \\\n",
    "                 if key.startswith(\"I_\") and val == 1])\n",
    "nondev_edges = set(all_edges) - set(dev_edges)\n",
    "# nondev_edges = set([tuple(i.split(\"_\")[1:]) for i,j in sol_ref.allowed_deviations.items() \\\n",
    "#                     if (i.startswith(\"IDev\") and j == 0)])\n",
    "# nondev_edges = nondev_edges.intersection(all_edges)\n",
    "all_nodes = sol_ref.nodes\n",
    "# Nodes with significant interaction term\n",
    "ia_nodes = set([ab_mapping_phospho[i] for i in list(df_ia.ab_name) if i in ab_mapping_phospho.keys()])"
   ]
  },
  {
   "cell_type": "markdown",
   "metadata": {},
   "source": [
    "### Network visualization"
   ]
  },
  {
   "cell_type": "code",
   "execution_count": 8,
   "metadata": {},
   "outputs": [
    {
     "data": {
      "image/png": "[encoded data removed]",
      "text/plain": [
       "<Figure size 432x288 with 1 Axes>"
      ]
     },
     "metadata": {},
     "output_type": "display_data"
    }
   ],
   "source": [
    "added_edges = [('EGFRY1045', 'P65'),\n",
    " ('SMAD159', 'MTOR'),\n",
    " ('LRP6', 'BMPR'),\n",
    " ('CDC2', 'STAT1'),\n",
    " ('P38', 'FZD'),\n",
    " ('H2A', 'CREB'),\n",
    " ('CMYC', 'LRP6'),\n",
    " ('CYCLINB1', 'MAPKAP2'),\n",
    " ('CYCLINB1', 'MKK36'),\n",
    " ('JNK', 'RSK1T359'),\n",
    " ('SMAD15', 'FAK'),\n",
    " ('RELA', 'BMPR'),\n",
    " ('JNK', 'LRP6'),\n",
    " ('H2A', 'RB'),\n",
    " ('ERK12', 'STAT3'),\n",
    " ('ERK12', 'MAPKAP2'),\n",
    " ('BMPR', 'LRP6'),\n",
    " ('JNK', 'BMPR'),\n",
    " ('MAPKAP2', 'LRP6'),\n",
    " ('RB', 'RPS6'),\n",
    " ('AKT1', 'GSK3B'),\n",
    " ('CREB', 'LRP6'),\n",
    " ('RB', 'FZD'),\n",
    " ('ERK12', 'RPS6'),\n",
    " ('P65', 'STAT5'),\n",
    " ('SMAD23', 'STAT1'),\n",
    " ('CJUN', 'MAPKAP2'),\n",
    " ('FZD', 'P38'),\n",
    " ('RPS6', 'RB'),\n",
    " ('H2A', 'FAK'),\n",
    " ('ERK12', 'JNK'),\n",
    " ('ERK12', 'MKK36'),\n",
    " ('JAK1', 'STAT5')]\n",
    "\n",
    "\n",
    "node_positions = {\n",
    "    \"BMP\": (-1, 1), \"BMPR\": (-1, 0), \"SMAD15\": (-1.5, -5), \"SMAD159\": (-1, -5),\n",
    "                                    \"SMAD23\": (0, -5),\n",
    "    \"IKBA\": (1, -6), \"RELA\": (1, -8),\n",
    "    \"MKK36\": (4, -4), \"P38\": (3.75, -6), \"P38D\": (4.25, -6), \"MAPKAP2\": (3.5, -8), \"CREB\": (4.5, -9),\n",
    "    \"LRP6\": (5, 0), \"FZD\": (6 , 0), \"GSK3B\": (5.5, -4), \n",
    "    \"EGFRY1045\": (7.75, 0), \"EGFRY1173\": (8.25, 0), \n",
    "    \"AKT1\": (5.75, -4), \"AKT123\": (6.25, -4), \"MTOR\": (6, -6), \"RPS6\": (7, -8),\n",
    "                                            \"ERK12\": (8, -6), \"RSK1T359\": (7.5, -7), \"CMYC\": (8, -9), \"CFOS\": (9, -9), \n",
    "                                            \"JNK\": (10, -6), \"CJUN\": (10, -9),\n",
    "    \"ITGB1\": (12, 0), \"SRC\": (12, -3),  \"FAK\": (12, -5),\n",
    "    \"JAK1\": (14, -5), \"STAT1\": (13, -9), \"STAT3\": (14, -9), \"STAT5\": (15, -9),\n",
    "    \"CYCLINB1\": (3, -12),  \"H2A\": (5, -12), \"CDC2\": (10, -12), \"RB\": (6, -12), \"P65\": (7, -12), \n",
    "    \"CDK4\": (8, -10.5), \"CYCLINE\": (14, -12), \"H3\": (4, -12)\n",
    "    }\n",
    "\n",
    "\n",
    "def get_graph(sol):\n",
    "    \"\"\"Generate graph from complete solution.\n",
    "\n",
    "    This graph includes perturbations as nodes, and edges from\n",
    "    perturbations to the affected nodes.\n",
    "\n",
    "    input:\n",
    "    * sol: A ScCnrResult object.\n",
    "\n",
    "    output: An networkx DiGraph object\n",
    "    \"\"\"\n",
    "    g = nx.DiGraph()\n",
    "    \n",
    "    for node in sol.nodes:\n",
    "        g.add_node(node)\n",
    "   \n",
    "    # Go over all variables from the solution.\n",
    "    for var, val in sol.vardict.items():\n",
    "        # select the local response coefficients\n",
    "        if var.startswith(\"I_\") and val == 1:\n",
    "            base, n1, n2 = var.split(\"_\")\n",
    "            from_n = n2\n",
    "            to_n = n1\n",
    "            # Check if edge deviates between cell state clusters\n",
    "            if (to_n, from_n) in dev_edges:\n",
    "                color = \"firebrick\"\n",
    "            else:\n",
    "                color = \"lightgray\"\n",
    "            \n",
    "            # Check is edge is added in the network reconstruction\n",
    "            if (to_n, from_n) in added_edges:\n",
    "                added = True\n",
    "            else:\n",
    "                added = False\n",
    "                \n",
    "            # Get type of edge\n",
    "            rloc_vars = [\"_\".join([\"r\", group, n1, n2]) for group in sol.groups]\n",
    "            rloc_vals = [sol.vardict[rvar] for rvar in rloc_vars]\n",
    "            if sum(rloc_vals)/len(rloc_vals) > 0:\n",
    "                interaction = \"activates\"\n",
    "            else:\n",
    "                interaction = \"inhibits\"\n",
    "\n",
    "            g.add_edge(from_n, to_n, color = color, isadded=added, \n",
    "                       interaction=interaction)\n",
    "    \n",
    "    \n",
    "    pos_x = dict()\n",
    "    pos_y = dict()\n",
    "    node_color = dict()\n",
    "    for node, pos in node_positions.items():\n",
    "        g.nodes[node]['pos'] = pos\n",
    "        pos_x[node] = int(35*pos[0])\n",
    "        pos_y[node] = int(-35*pos[1])\n",
    "        if node in ia_nodes:\n",
    "            node_color[node] = \"mediumorchid\"\n",
    "        else:\n",
    "            node_color[node] = \"lightgray\"\n",
    "    nx.set_node_attributes(g, pos_x, name='x')\n",
    "    nx.set_node_attributes(g, pos_y, name='y')\n",
    "    nx.set_node_attributes(g, node_color, name='color')\n",
    "    return g\n",
    "\n",
    "\n",
    "\n",
    "g = get_graph(sol_ref)\n",
    "edge_colors = nx.get_edge_attributes(g,'color').values()\n",
    "node_colors = nx.get_node_attributes(g,'color').values()\n",
    "\n",
    "nx.draw(g, edge_color=edge_colors, node_color=node_colors, \n",
    "        with_labels = True, pos=node_positions, size = 500)\n",
    "# plt.savefig(\"../../figures/scIDseq/CNR/Graph-differences-states.pdf\")\n",
    "# nx.write_gml(g, \"../../results/scIDseq/graph_states.gml\")"
   ]
  },
  {
   "cell_type": "code",
   "execution_count": 9,
   "metadata": {},
   "outputs": [
    {
     "data": {
      "image/png": "[encoded data removed]",
      "text/plain": [
       "<Figure size 432x288 with 1 Axes>"
      ]
     },
     "metadata": {},
     "output_type": "display_data"
    }
   ],
   "source": [
    "col_dict = {True: \"blue\", False: \"lightgray\"}\n",
    "edge_colors = [col_dict[val] for val in nx.get_edge_attributes(g,'isadded').values()]\n",
    "\n",
    "nx.draw(g, edge_color=edge_colors, node_color=\"lightgray\", \n",
    "        with_labels = True, pos=node_positions, size = 500)\n",
    "#plt.savefig(\"../../figures/scIDseq/CNR/Graph-added-edges.pdf\")\n",
    "# nx.write_gml(g, \"../../results/scIDseq/graph_added.gml\")"
   ]
  },
  {
   "cell_type": "markdown",
   "metadata": {},
   "source": [
    "### Enrichment analysis\n",
    "\n",
    "To assess the relation between nodes that show a cell state specific response and edges that differ in strength between cell states, we look whether edges that differ between states are more likely to connect to nodes that show a cell state specific response. Conversely, we also look if nodes that show a cell state specific response are more likely to have incoming edges that differ between states."
   ]
  },
  {
   "cell_type": "markdown",
   "metadata": {},
   "source": [
    "#### Edge enrichment"
   ]
  },
  {
   "cell_type": "markdown",
   "metadata": {},
   "source": [
    "|                     | connected to node with interaction term |not connected to node with interaction term  |\n",
    "| -------------       |   ---                                   | ---                                             |\n",
    "|edges deviating      | | |\n",
    "| edges not deviating | | |\n"
   ]
  },
  {
   "cell_type": "markdown",
   "metadata": {},
   "source": [
    "Is there an enrichment for connecting to a node with an interaction term among edges that are predicted to be deviating? Below we get the contingency table."
   ]
  },
  {
   "cell_type": "code",
   "execution_count": 10,
   "metadata": {},
   "outputs": [
    {
     "data": {
      "text/html": [
       "<div>\n",
       "<style scoped>\n",
       "    .dataframe tbody tr th:only-of-type {\n",
       "        vertical-align: middle;\n",
       "    }\n",
       "\n",
       "    .dataframe tbody tr th {\n",
       "        vertical-align: top;\n",
       "    }\n",
       "\n",
       "    .dataframe thead th {\n",
       "        text-align: right;\n",
       "    }\n",
       "</style>\n",
       "<table border=\"1\" class=\"dataframe\">\n",
       "  <thead>\n",
       "    <tr style=\"text-align: right;\">\n",
       "      <th></th>\n",
       "      <th>connected to node with interaction</th>\n",
       "      <th>not connected to node with interaction</th>\n",
       "    </tr>\n",
       "  </thead>\n",
       "  <tbody>\n",
       "    <tr>\n",
       "      <th>edges deviating</th>\n",
       "      <td>13</td>\n",
       "      <td>18</td>\n",
       "    </tr>\n",
       "    <tr>\n",
       "      <th>edges nondeviating</th>\n",
       "      <td>11</td>\n",
       "      <td>57</td>\n",
       "    </tr>\n",
       "  </tbody>\n",
       "</table>\n",
       "</div>"
      ],
      "text/plain": [
       "                    connected to node with interaction  \\\n",
       "edges deviating                                     13   \n",
       "edges nondeviating                                  11   \n",
       "\n",
       "                    not connected to node with interaction  \n",
       "edges deviating                                         18  \n",
       "edges nondeviating                                      57  "
      ]
     },
     "execution_count": 10,
     "metadata": {},
     "output_type": "execute_result"
    }
   ],
   "source": [
    "assert ia_nodes.issubset(sol_ref.nodes)\n",
    "\n",
    "# Get dev_edges that link to node in ia_nodes\n",
    "de_ia = []\n",
    "de_nia = []\n",
    "for edge in dev_edges:\n",
    "    if bool(ia_nodes.intersection(edge)):\n",
    "        de_ia.append(edge)\n",
    "    else:\n",
    "        de_nia.append(edge)\n",
    "\n",
    "        \n",
    "nde_ia = []\n",
    "nde_nia = []\n",
    "for edge in nondev_edges:\n",
    "    if bool(ia_nodes.intersection(edge)):\n",
    "        nde_ia.append(edge)\n",
    "    else:\n",
    "        nde_nia.append(edge)\n",
    "\n",
    "# Some sanity checks\n",
    "assert len(de_ia) + len(de_nia) == len(dev_edges)        \n",
    "assert len(nde_ia) + len(nde_nia) == len(nondev_edges)        \n",
    "\n",
    "cont_table_edges = [[len(de_ia), len(de_nia)], [len(nde_ia), len(nde_nia)]]\n",
    "\n",
    "pd.DataFrame(\n",
    "    cont_table_edges, \n",
    "    index = [\"edges deviating\", \"edges nondeviating\"],\n",
    "    columns = [\"connected to node with interaction\", \"not connected to node with interaction\"]\n",
    ")"
   ]
  },
  {
   "cell_type": "markdown",
   "metadata": {},
   "source": [
    "The Fisher exact test below shows a clearly significant enrichment?"
   ]
  },
  {
   "cell_type": "code",
   "execution_count": 11,
   "metadata": {},
   "outputs": [
    {
     "data": {
      "text/plain": [
       "(3.742424242424242, 0.006772473251130076)"
      ]
     },
     "execution_count": 11,
     "metadata": {},
     "output_type": "execute_result"
    }
   ],
   "source": [
    "scipy.stats.fisher_exact(cont_table_edges, alternative = \"greater\")"
   ]
  },
  {
   "cell_type": "markdown",
   "metadata": {},
   "source": [
    "We also visualize the contingency table"
   ]
  },
  {
   "cell_type": "code",
   "execution_count": 12,
   "metadata": {},
   "outputs": [
    {
     "data": {
      "image/png": "[encoded data removed]",
      "text/plain": [
       "<Figure size 108x288 with 1 Axes>"
      ]
     },
     "metadata": {},
     "output_type": "display_data"
    }
   ],
   "source": [
    "bars = [\"Edges that differ\\nbetween cell states\", \"Edges that do not differ\\nbetween cell states\"]\n",
    "prop_table_edges = [\n",
    "    [x/sum(cont_table_edges[0]) for x in cont_table_edges[0]],\n",
    "    [x/sum(cont_table_edges[1]) for x in cont_table_edges[1]]\n",
    "]\n",
    "red_bars = [v[0] for v in prop_table_edges]\n",
    "gray_bars = [v[1] for v in prop_table_edges]\n",
    "\n",
    "\n",
    "barWidth = 0.9\n",
    "fig, ax = plt.subplots()\n",
    "fig.set_size_inches(1.5, 4);\n",
    "plt.bar(bars, red_bars, color=\"mediumorchid\", width=barWidth, label=\"Yes\")\n",
    "plt.bar(bars, gray_bars, bottom=red_bars, color=\"lightgray\", width=barWidth, label=\"No\")\n",
    "plt.ylabel(\"Fraction\", fontsize=8)\n",
    "ax.get_xticklabels()[0].set_color(\"firebrick\")\n",
    "ax.get_xticklabels()[1].set_color(\"gray\")\n",
    "ax.spines['top'].set_visible(False)\n",
    "ax.spines[\"right\"].set_visible(False)\n",
    "plt.xticks(rotation=45, ha=\"right\")\n",
    "plt.tick_params(axis=\"x\", bottom=False)\n",
    "plt.legend(loc='upper left', bbox_to_anchor=(-0.5,1.25), ncol=1, \n",
    "           frameon=False, prop={'size': 6}, \n",
    "           title = \"Connected to node with\\nsignificant interaction term\",\n",
    "          title_fontsize=6);\n",
    "plt.tight_layout();\n",
    "plt.savefig(\"../figures/scIDseq/CNR/enrichment-edges.pdf\")"
   ]
  },
  {
   "cell_type": "markdown",
   "metadata": {},
   "source": [
    "An alternative way to look at it is to only consider edges that have an upstream node with an interaction term"
   ]
  },
  {
   "cell_type": "code",
   "execution_count": 13,
   "metadata": {},
   "outputs": [],
   "source": [
    "# # Get dev_edges that link to node in ia_nodes\n",
    "# de_ia = []\n",
    "# de_nia = []\n",
    "# for edge in dev_edges:\n",
    "#     if bool(ia_nodes.intersection(edge)):\n",
    "#         de_ia.append(edge)\n",
    "#     else:\n",
    "#         de_nia.append(edge)\n",
    "\n",
    "        \n",
    "# nde_ia = []\n",
    "# nde_nia = []\n",
    "# for edge in nondev_edges:\n",
    "#     if bool(ia_nodes.intersection(edge)):\n",
    "#         nde_ia.append(edge)\n",
    "#     else:\n",
    "#         nde_nia.append(edge)\n",
    "\n",
    "# # Some sanity checks\n",
    "# assert len(de_ia) + len(de_nia) == len(dev_edges)        \n",
    "# assert len(nde_ia) + len(nde_nia) == len(nondev_edges)        \n",
    "\n",
    "# cont_table_edges = [[len(de_ia), len(de_nia)], [len(nde_ia), len(nde_nia)]]\n",
    "\n",
    "# pd.DataFrame(\n",
    "#     cont_table_edges, \n",
    "#     index = [\"edges deviating\", \"edges nondeviating\"],\n",
    "#     columns = [\"connected to node with interaction\", \"not connected to node with interaction\"]\n",
    "# )"
   ]
  },
  {
   "cell_type": "markdown",
   "metadata": {},
   "source": [
    "#### Node enrichment\n",
    "\n",
    "Is there an enrichment for having an incoming edge deviating between cell states for nodes with an interaction term? "
   ]
  },
  {
   "cell_type": "code",
   "execution_count": 14,
   "metadata": {},
   "outputs": [
    {
     "data": {
      "text/html": [
       "<div>\n",
       "<style scoped>\n",
       "    .dataframe tbody tr th:only-of-type {\n",
       "        vertical-align: middle;\n",
       "    }\n",
       "\n",
       "    .dataframe tbody tr th {\n",
       "        vertical-align: top;\n",
       "    }\n",
       "\n",
       "    .dataframe thead th {\n",
       "        text-align: right;\n",
       "    }\n",
       "</style>\n",
       "<table border=\"1\" class=\"dataframe\">\n",
       "  <thead>\n",
       "    <tr style=\"text-align: right;\">\n",
       "      <th></th>\n",
       "      <th>Incoming deviating edge</th>\n",
       "      <th>No non-deviating edge</th>\n",
       "    </tr>\n",
       "  </thead>\n",
       "  <tbody>\n",
       "    <tr>\n",
       "      <th>Nodes with interaction</th>\n",
       "      <td>5</td>\n",
       "      <td>2</td>\n",
       "    </tr>\n",
       "    <tr>\n",
       "      <th>Nodes without interaction</th>\n",
       "      <td>10</td>\n",
       "      <td>25</td>\n",
       "    </tr>\n",
       "  </tbody>\n",
       "</table>\n",
       "</div>"
      ],
      "text/plain": [
       "                           Incoming deviating edge  No non-deviating edge\n",
       "Nodes with interaction                           5                      2\n",
       "Nodes without interaction                       10                     25"
      ]
     },
     "execution_count": 14,
     "metadata": {},
     "output_type": "execute_result"
    }
   ],
   "source": [
    "# Nodes with imcoming edge deviating\n",
    "nds_dev_ed = set([edge[0] for edge in dev_edges])\n",
    "\n",
    "# Nodes without an incoming edge deviating\n",
    "other_nodes = set(sol_ref.nodes) - ia_nodes\n",
    "    \n",
    "assert len(ia_nodes.intersection(nds_dev_ed)) + len(ia_nodes - nds_dev_ed) == len(ia_nodes)\n",
    "assert len(other_nodes.intersection(nds_dev_ed)) + len(other_nodes - nds_dev_ed) == len(other_nodes)\n",
    "\n",
    "\n",
    "cont_table_nodes = [\n",
    "    [len(ia_nodes.intersection(nds_dev_ed)),    len(ia_nodes - nds_dev_ed)],\n",
    "    [len(other_nodes.intersection(nds_dev_ed)), len(other_nodes - nds_dev_ed)]]\n",
    "\n",
    "pd.DataFrame(cont_table_nodes, \n",
    "             index = [\"Nodes with interaction\", \"Nodes without interaction\"],\n",
    "             columns = [\"Incoming deviating edge\", \"No non-deviating edge\"]\n",
    "            )\n"
   ]
  },
  {
   "cell_type": "markdown",
   "metadata": {},
   "source": [
    "There is an enrichment, but it is just barely significant. Possibly due to the lower numbers..."
   ]
  },
  {
   "cell_type": "code",
   "execution_count": 15,
   "metadata": {},
   "outputs": [
    {
     "data": {
      "text/plain": [
       "(6.25, 0.044317905839086846)"
      ]
     },
     "execution_count": 15,
     "metadata": {},
     "output_type": "execute_result"
    }
   ],
   "source": [
    "scipy.stats.fisher_exact(cont_table_nodes, alternative = \"greater\")"
   ]
  },
  {
   "cell_type": "code",
   "execution_count": 16,
   "metadata": {},
   "outputs": [
    {
     "data": {
      "image/png": "[encoded data removed]",
      "text/plain": [
       "<Figure size 108x288 with 1 Axes>"
      ]
     },
     "metadata": {},
     "output_type": "display_data"
    }
   ],
   "source": [
    "bars = [\"Nodes with significant\\ninteraction term\", \"Nodes without significant\\ninteraction term\"]\n",
    "prop_table_edges = [\n",
    "    [x/sum(cont_table_nodes[0]) for x in cont_table_nodes[0]],\n",
    "    [x/sum(cont_table_nodes[1]) for x in cont_table_nodes[1]]\n",
    "]\n",
    "red_bars = [v[0] for v in prop_table_edges]\n",
    "gray_bars = [v[1] for v in prop_table_edges]\n",
    "\n",
    "matplotlib.rc('xtick', labelsize=6) \n",
    "matplotlib.rc('ytick', labelsize=6) \n",
    "matplotlib.rc('legend',**{'fontsize':6})\n",
    "\n",
    "barWidth = 0.9\n",
    "fig, ax = plt.subplots()\n",
    "fig.set_size_inches(1.5, 4);\n",
    "plt.bar(bars, red_bars, color=\"firebrick\", width=barWidth, label=\"Yes\")\n",
    "plt.bar(bars, gray_bars, bottom=red_bars, color=\"lightgray\", width=barWidth, label=\"No\")\n",
    "plt.ylabel(\"Fraction\", fontsize=8)\n",
    "ax.get_xticklabels()[0].set_color(\"mediumorchid\")\n",
    "ax.get_xticklabels()[1].set_color(\"gray\")\n",
    "ax.spines['top'].set_visible(False)\n",
    "ax.spines[\"right\"].set_visible(False)\n",
    "plt.xticks(rotation=45, ha=\"right\")\n",
    "plt.tick_params(axis=\"x\", bottom=False)\n",
    "plt.legend(loc='upper left', bbox_to_anchor=(-0.5,1.25), ncol=1, \n",
    "           frameon=False, prop={'size': 6}, \n",
    "           title = \"Incoming edge that differs\\nbetween cell states\",\n",
    "          title_fontsize=6);\n",
    "plt.tight_layout();\n",
    "plt.savefig(\"../figures/scIDseq/CNR/enrichment-nodes.pdf\", pad_inches=10)"
   ]
  },
  {
   "cell_type": "markdown",
   "metadata": {},
   "source": [
    "### Relation with baseline node activation status\n",
    "\n",
    "The enrichment analyses above indicate that cell state specific node response and edge strengths are tightly related. \n",
    "One mechanism trough which this can arise is as the results of cell state specific "
   ]
  },
  {
   "cell_type": "code",
   "execution_count": null,
   "metadata": {},
   "outputs": [],
   "source": []
  },
  {
   "cell_type": "markdown",
   "metadata": {},
   "source": [
    "### Sample permutation analysis"
   ]
  },
  {
   "cell_type": "code",
   "execution_count": 17,
   "metadata": {},
   "outputs": [],
   "source": [
    "with open('../results/sample-permutation/cnr_full-restricteddevs.pickle', 'rb') as f:\n",
    "    sol_permutations_cnr = pickle.load(f)\n",
    "\n",
    "with open('../results/sample-permutation/cnr_full-restricteddevs_batch2.pickle', 'rb') as f:\n",
    "    tmp = pickle.load(f)\n",
    "sol_permutations_cnr += tmp\n",
    "\n",
    "with open('../results/sample-permutation/cnr_full-restricteddevs_batch3.pickle', 'rb') as f:\n",
    "    tmp = pickle.load(f)\n",
    "sol_permutations_cnr += tmp    \n",
    "\n",
    "with open('../results/sample-permutation/cnr_full-restricteddevs_batch4.pickle', 'rb') as f:\n",
    "    tmp = pickle.load(f)\n",
    "sol_permutations_cnr += tmp    \n",
    "    \n",
    "with open('../results/sample-permutation/cnr_full-restricteddevs_batch5.pickle', 'rb') as f:\n",
    "    tmp = pickle.load(f)\n",
    "sol_permutations_cnr += tmp\n",
    "\n",
    "with open('../results/sample-permutation/cnr_full-restricteddevs_batch6.pickle', 'rb') as f:\n",
    "    tmp = pickle.load(f)\n",
    "sol_permutations_cnr += tmp"
   ]
  },
  {
   "cell_type": "code",
   "execution_count": 18,
   "metadata": {},
   "outputs": [
    {
     "data": {
      "text/plain": [
       "1001"
      ]
     },
     "execution_count": 18,
     "metadata": {},
     "output_type": "execute_result"
    }
   ],
   "source": [
    "len(sol_permutations_cnr)"
   ]
  },
  {
   "cell_type": "code",
   "execution_count": 19,
   "metadata": {},
   "outputs": [
    {
     "data": {
      "text/html": [
       "<div>\n",
       "<style scoped>\n",
       "    .dataframe tbody tr th:only-of-type {\n",
       "        vertical-align: middle;\n",
       "    }\n",
       "\n",
       "    .dataframe tbody tr th {\n",
       "        vertical-align: top;\n",
       "    }\n",
       "\n",
       "    .dataframe thead th {\n",
       "        text-align: right;\n",
       "    }\n",
       "</style>\n",
       "<table border=\"1\" class=\"dataframe\">\n",
       "  <thead>\n",
       "    <tr style=\"text-align: right;\">\n",
       "      <th></th>\n",
       "      <th>1</th>\n",
       "      <th>2</th>\n",
       "      <th>3</th>\n",
       "      <th>4</th>\n",
       "      <th>5</th>\n",
       "      <th>6</th>\n",
       "      <th>7</th>\n",
       "      <th>8</th>\n",
       "      <th>9</th>\n",
       "      <th>mean</th>\n",
       "    </tr>\n",
       "  </thead>\n",
       "  <tbody>\n",
       "    <tr>\n",
       "      <th>r_BMPR_BMP</th>\n",
       "      <td>-0.17113</td>\n",
       "      <td>0.197245</td>\n",
       "      <td>0.00313327</td>\n",
       "      <td>0.193886</td>\n",
       "      <td>0.164174</td>\n",
       "      <td>0.100832</td>\n",
       "      <td>-0.19146</td>\n",
       "      <td>-0.177024</td>\n",
       "      <td>-0.321906</td>\n",
       "      <td>-0.0224722</td>\n",
       "    </tr>\n",
       "    <tr>\n",
       "      <th>r_CJUN_ERK12</th>\n",
       "      <td>0.391981</td>\n",
       "      <td>0.0376134</td>\n",
       "      <td>-0.0156178</td>\n",
       "      <td>0.17557</td>\n",
       "      <td>0.111373</td>\n",
       "      <td>0.0259416</td>\n",
       "      <td>0.388281</td>\n",
       "      <td>0.184229</td>\n",
       "      <td>-0.104893</td>\n",
       "      <td>0.13272</td>\n",
       "    </tr>\n",
       "    <tr>\n",
       "      <th>r_CJUN_JNK</th>\n",
       "      <td>0.06454</td>\n",
       "      <td>0.102425</td>\n",
       "      <td>0.812995</td>\n",
       "      <td>-0.10733</td>\n",
       "      <td>-0.201147</td>\n",
       "      <td>0.0896129</td>\n",
       "      <td>-0.00597329</td>\n",
       "      <td>-0.22195</td>\n",
       "      <td>0.231505</td>\n",
       "      <td>0.0849643</td>\n",
       "    </tr>\n",
       "    <tr>\n",
       "      <th>r_CJUN_MAPKAP2</th>\n",
       "      <td>0.517322</td>\n",
       "      <td>0.703069</td>\n",
       "      <td>1.11686</td>\n",
       "      <td>0.65613</td>\n",
       "      <td>0.710803</td>\n",
       "      <td>0.590907</td>\n",
       "      <td>0.392613</td>\n",
       "      <td>0.939635</td>\n",
       "      <td>0.892175</td>\n",
       "      <td>0.72439</td>\n",
       "    </tr>\n",
       "    <tr>\n",
       "      <th>r_CREB_LRP6</th>\n",
       "      <td>-0.610007</td>\n",
       "      <td>-0.475464</td>\n",
       "      <td>-0.456331</td>\n",
       "      <td>-0.748716</td>\n",
       "      <td>-0.508901</td>\n",
       "      <td>-0.567789</td>\n",
       "      <td>-0.62002</td>\n",
       "      <td>-0.740901</td>\n",
       "      <td>-0.467376</td>\n",
       "      <td>-0.577278</td>\n",
       "    </tr>\n",
       "    <tr>\n",
       "      <th>...</th>\n",
       "      <td>...</td>\n",
       "      <td>...</td>\n",
       "      <td>...</td>\n",
       "      <td>...</td>\n",
       "      <td>...</td>\n",
       "      <td>...</td>\n",
       "      <td>...</td>\n",
       "      <td>...</td>\n",
       "      <td>...</td>\n",
       "      <td>...</td>\n",
       "    </tr>\n",
       "    <tr>\n",
       "      <th>r_SMAD15_FAK</th>\n",
       "      <td>0.556802</td>\n",
       "      <td>0.593408</td>\n",
       "      <td>0.678255</td>\n",
       "      <td>0.900685</td>\n",
       "      <td>0.6226</td>\n",
       "      <td>0.583315</td>\n",
       "      <td>0.499581</td>\n",
       "      <td>0.676445</td>\n",
       "      <td>0.394972</td>\n",
       "      <td>0.611785</td>\n",
       "    </tr>\n",
       "    <tr>\n",
       "      <th>r_STAT1_SRC</th>\n",
       "      <td>0.155156</td>\n",
       "      <td>0.241422</td>\n",
       "      <td>0.358783</td>\n",
       "      <td>0.349632</td>\n",
       "      <td>0.566104</td>\n",
       "      <td>0.28225</td>\n",
       "      <td>0.275902</td>\n",
       "      <td>0.282483</td>\n",
       "      <td>0.0677692</td>\n",
       "      <td>0.286611</td>\n",
       "    </tr>\n",
       "    <tr>\n",
       "      <th>r_STAT5_SRC</th>\n",
       "      <td>0.303261</td>\n",
       "      <td>0.192256</td>\n",
       "      <td>0.428965</td>\n",
       "      <td>0.753288</td>\n",
       "      <td>0.493384</td>\n",
       "      <td>0.211349</td>\n",
       "      <td>0.35412</td>\n",
       "      <td>0.240477</td>\n",
       "      <td>0.214917</td>\n",
       "      <td>0.354669</td>\n",
       "    </tr>\n",
       "    <tr>\n",
       "      <th>s_AKT1</th>\n",
       "      <td>0.376374</td>\n",
       "      <td>0.309542</td>\n",
       "      <td>0.445832</td>\n",
       "      <td>0.506697</td>\n",
       "      <td>0.0149062</td>\n",
       "      <td>0.357107</td>\n",
       "      <td>0.158856</td>\n",
       "      <td>0.374802</td>\n",
       "      <td>0.409557</td>\n",
       "      <td>0.328186</td>\n",
       "    </tr>\n",
       "    <tr>\n",
       "      <th>s_ERK12</th>\n",
       "      <td>0.193258</td>\n",
       "      <td>0.2828</td>\n",
       "      <td>0.591366</td>\n",
       "      <td>0.109056</td>\n",
       "      <td>0.341047</td>\n",
       "      <td>0.0973541</td>\n",
       "      <td>0.212977</td>\n",
       "      <td>0.596427</td>\n",
       "      <td>0</td>\n",
       "      <td>0.269365</td>\n",
       "    </tr>\n",
       "  </tbody>\n",
       "</table>\n",
       "<p>33033 rows × 10 columns</p>\n",
       "</div>"
      ],
      "text/plain": [
       "                       1          2           3         4          5  \\\n",
       "r_BMPR_BMP      -0.17113   0.197245  0.00313327  0.193886   0.164174   \n",
       "r_CJUN_ERK12    0.391981  0.0376134  -0.0156178   0.17557   0.111373   \n",
       "r_CJUN_JNK       0.06454   0.102425    0.812995  -0.10733  -0.201147   \n",
       "r_CJUN_MAPKAP2  0.517322   0.703069     1.11686   0.65613   0.710803   \n",
       "r_CREB_LRP6    -0.610007  -0.475464   -0.456331 -0.748716  -0.508901   \n",
       "...                  ...        ...         ...       ...        ...   \n",
       "r_SMAD15_FAK    0.556802   0.593408    0.678255  0.900685     0.6226   \n",
       "r_STAT1_SRC     0.155156   0.241422    0.358783  0.349632   0.566104   \n",
       "r_STAT5_SRC     0.303261   0.192256    0.428965  0.753288   0.493384   \n",
       "s_AKT1          0.376374   0.309542    0.445832  0.506697  0.0149062   \n",
       "s_ERK12         0.193258     0.2828    0.591366  0.109056   0.341047   \n",
       "\n",
       "                        6           7         8          9       mean  \n",
       "r_BMPR_BMP       0.100832    -0.19146 -0.177024  -0.321906 -0.0224722  \n",
       "r_CJUN_ERK12    0.0259416    0.388281  0.184229  -0.104893    0.13272  \n",
       "r_CJUN_JNK      0.0896129 -0.00597329  -0.22195   0.231505  0.0849643  \n",
       "r_CJUN_MAPKAP2   0.590907    0.392613  0.939635   0.892175    0.72439  \n",
       "r_CREB_LRP6     -0.567789    -0.62002 -0.740901  -0.467376  -0.577278  \n",
       "...                   ...         ...       ...        ...        ...  \n",
       "r_SMAD15_FAK     0.583315    0.499581  0.676445   0.394972   0.611785  \n",
       "r_STAT1_SRC       0.28225    0.275902  0.282483  0.0677692   0.286611  \n",
       "r_STAT5_SRC      0.211349     0.35412  0.240477   0.214917   0.354669  \n",
       "s_AKT1           0.357107    0.158856  0.374802   0.409557   0.328186  \n",
       "s_ERK12         0.0973541    0.212977  0.596427          0   0.269365  \n",
       "\n",
       "[33033 rows x 10 columns]"
      ]
     },
     "execution_count": 19,
     "metadata": {},
     "output_type": "execute_result"
    }
   ],
   "source": [
    "df_permutations = pd.concat([s.deviations_overview for s in sol_permutations_cnr], sort=True)\n",
    "recur_diffs_permutations = df_permutations.index.value_counts()/len(sol_permutations_cnr)\n",
    "recur_diffs_permutations = pd.DataFrame({\"fraction\": recur_diffs_permutations[recur_diffs_permutations > 0.5]})\n",
    "\n",
    "df_permutations = pd.concat(\n",
    "    [s.deviations_overview for s in sol_permutations_cnr], \n",
    "    sort=True\n",
    ")\n",
    "\n",
    "df_permutations"
   ]
  },
  {
   "cell_type": "code",
   "execution_count": 20,
   "metadata": {},
   "outputs": [],
   "source": [
    "# Get overview of deviations from mean of all permutations in long/tidy form\n",
    "deviating_vars = list(sol_ref.deviations_overview.index)\n",
    "#indicators = [key for key, val in sol_ref.vardict.items() if key.startswith(\"I_\") and val == 1]\n",
    "\n",
    "df_lst = []\n",
    "for sol in sol_permutations_cnr:\n",
    "    df = pd.DataFrame(columns=list(sol.groups) + ['mean'], index=deviating_vars)\n",
    "    for i in deviating_vars:\n",
    "        info = i.split(\"_\")#\n",
    "        vars_lst = ['_'.join(info[:1] + [group] + info[1:]) for group in sol.groups]\n",
    "        vars_vals = [sol.vardict[v] for v in vars_lst]\n",
    "        vars_vals.append(np.mean(vars_vals))\n",
    "        df.loc[i] = vars_vals\n",
    "\n",
    "    df_lst.append(df)\n",
    "\n",
    "perm_dev_tidy = pd.concat(df_lst)\n",
    "perm_dev_tidy = perm_dev_tidy.sub(perm_dev_tidy['mean'], axis=0)\n",
    "perm_dev_tidy = perm_dev_tidy.drop(\"mean\", axis=1)\n",
    "perm_dev_tidy = perm_dev_tidy.melt(\n",
    "    var_name = \"Cluster\", value_name = \"Deviation\", \n",
    "    ignore_index=False)\n",
    "perm_dev_tidy['Edge'] = perm_dev_tidy.index\n",
    "perm_dev_tidy = perm_dev_tidy[[\"Edge\", \"Cluster\", \"Deviation\"]]\n",
    "\n",
    "del sol_permutations_cnr, tmp\n"
   ]
  },
  {
   "cell_type": "code",
   "execution_count": 21,
   "metadata": {},
   "outputs": [
    {
     "data": {
      "text/plain": [
       "-0.029086499972682887"
      ]
     },
     "execution_count": 21,
     "metadata": {},
     "output_type": "execute_result"
    }
   ],
   "source": [
    "dev_vals = perm_dev_tidy.loc[(perm_dev_tidy.Edge == \"r_CYCLINB1_MAPKAP2\") & (perm_dev_tidy.Cluster == \"5\")].Deviation\n",
    "\n",
    "\n",
    "dev_vals.mean()\n",
    "# dev_vals.std()\n",
    "# dev_vals.mean()"
   ]
  },
  {
   "cell_type": "code",
   "execution_count": 22,
   "metadata": {},
   "outputs": [
    {
     "data": {
      "text/html": [
       "<div>\n",
       "<style scoped>\n",
       "    .dataframe tbody tr th:only-of-type {\n",
       "        vertical-align: middle;\n",
       "    }\n",
       "\n",
       "    .dataframe tbody tr th {\n",
       "        vertical-align: top;\n",
       "    }\n",
       "\n",
       "    .dataframe thead th {\n",
       "        text-align: right;\n",
       "    }\n",
       "</style>\n",
       "<table border=\"1\" class=\"dataframe\">\n",
       "  <thead>\n",
       "    <tr style=\"text-align: right;\">\n",
       "      <th></th>\n",
       "      <th>Edge</th>\n",
       "      <th>Cluster</th>\n",
       "      <th>Deviation</th>\n",
       "      <th>pval</th>\n",
       "      <th>zscore</th>\n",
       "      <th>fdr</th>\n",
       "    </tr>\n",
       "  </thead>\n",
       "  <tbody>\n",
       "    <tr>\n",
       "      <th>r_RB_FZD</th>\n",
       "      <td>r_RB_FZD</td>\n",
       "      <td>4</td>\n",
       "      <td>-2.84029</td>\n",
       "      <td>0.000998</td>\n",
       "      <td>-5.128373</td>\n",
       "      <td>0.027763</td>\n",
       "    </tr>\n",
       "    <tr>\n",
       "      <th>r_RB_CDC2</th>\n",
       "      <td>r_RB_CDC2</td>\n",
       "      <td>4</td>\n",
       "      <td>-2.39769</td>\n",
       "      <td>0.000998</td>\n",
       "      <td>-4.800955</td>\n",
       "      <td>0.027763</td>\n",
       "    </tr>\n",
       "    <tr>\n",
       "      <th>r_CYCLINB1_MKK36</th>\n",
       "      <td>r_CYCLINB1_MKK36</td>\n",
       "      <td>5</td>\n",
       "      <td>-1.5541</td>\n",
       "      <td>0.000998</td>\n",
       "      <td>-5.881456</td>\n",
       "      <td>0.027763</td>\n",
       "    </tr>\n",
       "    <tr>\n",
       "      <th>r_LRP6_BMPR</th>\n",
       "      <td>r_LRP6_BMPR</td>\n",
       "      <td>1</td>\n",
       "      <td>-0.791361</td>\n",
       "      <td>0.000998</td>\n",
       "      <td>-4.720422</td>\n",
       "      <td>0.027763</td>\n",
       "    </tr>\n",
       "    <tr>\n",
       "      <th>r_BMPR_BMP</th>\n",
       "      <td>r_BMPR_BMP</td>\n",
       "      <td>1</td>\n",
       "      <td>-0.73622</td>\n",
       "      <td>0.000998</td>\n",
       "      <td>-3.525611</td>\n",
       "      <td>0.027763</td>\n",
       "    </tr>\n",
       "    <tr>\n",
       "      <th>r_H3_CREB</th>\n",
       "      <td>r_H3_CREB</td>\n",
       "      <td>5</td>\n",
       "      <td>-0.585225</td>\n",
       "      <td>0.000998</td>\n",
       "      <td>-5.023098</td>\n",
       "      <td>0.027763</td>\n",
       "    </tr>\n",
       "    <tr>\n",
       "      <th>r_CREB_LRP6</th>\n",
       "      <td>r_CREB_LRP6</td>\n",
       "      <td>1</td>\n",
       "      <td>0.4373</td>\n",
       "      <td>0.000998</td>\n",
       "      <td>3.247250</td>\n",
       "      <td>0.027763</td>\n",
       "    </tr>\n",
       "    <tr>\n",
       "      <th>r_H2A_RB</th>\n",
       "      <td>r_H2A_RB</td>\n",
       "      <td>5</td>\n",
       "      <td>0.848201</td>\n",
       "      <td>0.000998</td>\n",
       "      <td>12.201358</td>\n",
       "      <td>0.027763</td>\n",
       "    </tr>\n",
       "    <tr>\n",
       "      <th>r_CYCLINB1_MAPKAP2</th>\n",
       "      <td>r_CYCLINB1_MAPKAP2</td>\n",
       "      <td>5</td>\n",
       "      <td>0.858057</td>\n",
       "      <td>0.000998</td>\n",
       "      <td>6.204599</td>\n",
       "      <td>0.027763</td>\n",
       "    </tr>\n",
       "    <tr>\n",
       "      <th>r_LRP6_BMPR</th>\n",
       "      <td>r_LRP6_BMPR</td>\n",
       "      <td>4</td>\n",
       "      <td>0.875544</td>\n",
       "      <td>0.000998</td>\n",
       "      <td>4.668448</td>\n",
       "      <td>0.027763</td>\n",
       "    </tr>\n",
       "    <tr>\n",
       "      <th>r_JNK_BMPR</th>\n",
       "      <td>r_JNK_BMPR</td>\n",
       "      <td>8</td>\n",
       "      <td>1.20716</td>\n",
       "      <td>0.000998</td>\n",
       "      <td>4.441203</td>\n",
       "      <td>0.027763</td>\n",
       "    </tr>\n",
       "    <tr>\n",
       "      <th>p_ip70S6K.EGF_RPS6</th>\n",
       "      <td>p_ip70S6K.EGF_RPS6</td>\n",
       "      <td>2</td>\n",
       "      <td>0.222973</td>\n",
       "      <td>0.001996</td>\n",
       "      <td>3.122511</td>\n",
       "      <td>0.043627</td>\n",
       "    </tr>\n",
       "    <tr>\n",
       "      <th>r_ERK12_EGFRY1045</th>\n",
       "      <td>r_ERK12_EGFRY1045</td>\n",
       "      <td>8</td>\n",
       "      <td>1.06414</td>\n",
       "      <td>0.001996</td>\n",
       "      <td>3.094966</td>\n",
       "      <td>0.043627</td>\n",
       "    </tr>\n",
       "    <tr>\n",
       "      <th>r_RB_CDK4</th>\n",
       "      <td>r_RB_CDK4</td>\n",
       "      <td>7</td>\n",
       "      <td>1.75082</td>\n",
       "      <td>0.001996</td>\n",
       "      <td>3.559928</td>\n",
       "      <td>0.043627</td>\n",
       "    </tr>\n",
       "    <tr>\n",
       "      <th>r_MAPKAP2_LRP6</th>\n",
       "      <td>r_MAPKAP2_LRP6</td>\n",
       "      <td>8</td>\n",
       "      <td>-0.580363</td>\n",
       "      <td>0.002994</td>\n",
       "      <td>-2.955654</td>\n",
       "      <td>0.048219</td>\n",
       "    </tr>\n",
       "    <tr>\n",
       "      <th>r_H3_CREB</th>\n",
       "      <td>r_H3_CREB</td>\n",
       "      <td>1</td>\n",
       "      <td>-0.368574</td>\n",
       "      <td>0.002994</td>\n",
       "      <td>-3.075169</td>\n",
       "      <td>0.048219</td>\n",
       "    </tr>\n",
       "    <tr>\n",
       "      <th>r_H2A_RB</th>\n",
       "      <td>r_H2A_RB</td>\n",
       "      <td>4</td>\n",
       "      <td>-0.286759</td>\n",
       "      <td>0.002994</td>\n",
       "      <td>-3.472914</td>\n",
       "      <td>0.048219</td>\n",
       "    </tr>\n",
       "    <tr>\n",
       "      <th>r_H2A_RB</th>\n",
       "      <td>r_H2A_RB</td>\n",
       "      <td>8</td>\n",
       "      <td>-0.257225</td>\n",
       "      <td>0.002994</td>\n",
       "      <td>-3.327965</td>\n",
       "      <td>0.048219</td>\n",
       "    </tr>\n",
       "    <tr>\n",
       "      <th>r_MAPKAP2_LRP6</th>\n",
       "      <td>r_MAPKAP2_LRP6</td>\n",
       "      <td>6</td>\n",
       "      <td>0.578871</td>\n",
       "      <td>0.002994</td>\n",
       "      <td>2.814695</td>\n",
       "      <td>0.048219</td>\n",
       "    </tr>\n",
       "    <tr>\n",
       "      <th>r_SMAD15_FAK</th>\n",
       "      <td>r_SMAD15_FAK</td>\n",
       "      <td>3</td>\n",
       "      <td>-0.354413</td>\n",
       "      <td>0.003992</td>\n",
       "      <td>-2.638973</td>\n",
       "      <td>0.048862</td>\n",
       "    </tr>\n",
       "    <tr>\n",
       "      <th>r_H2A_RB</th>\n",
       "      <td>r_H2A_RB</td>\n",
       "      <td>7</td>\n",
       "      <td>-0.183501</td>\n",
       "      <td>0.003992</td>\n",
       "      <td>-3.146973</td>\n",
       "      <td>0.048862</td>\n",
       "    </tr>\n",
       "    <tr>\n",
       "      <th>s_AKT1</th>\n",
       "      <td>s_AKT1</td>\n",
       "      <td>7</td>\n",
       "      <td>0.38064</td>\n",
       "      <td>0.003992</td>\n",
       "      <td>2.498798</td>\n",
       "      <td>0.048862</td>\n",
       "    </tr>\n",
       "    <tr>\n",
       "      <th>r_H3_CREB</th>\n",
       "      <td>r_H3_CREB</td>\n",
       "      <td>9</td>\n",
       "      <td>0.507522</td>\n",
       "      <td>0.003992</td>\n",
       "      <td>3.195290</td>\n",
       "      <td>0.048862</td>\n",
       "    </tr>\n",
       "    <tr>\n",
       "      <th>r_STAT1_SRC</th>\n",
       "      <td>r_STAT1_SRC</td>\n",
       "      <td>9</td>\n",
       "      <td>0.512409</td>\n",
       "      <td>0.003992</td>\n",
       "      <td>3.239354</td>\n",
       "      <td>0.048862</td>\n",
       "    </tr>\n",
       "    <tr>\n",
       "      <th>r_CREB_P38</th>\n",
       "      <td>r_CREB_P38</td>\n",
       "      <td>1</td>\n",
       "      <td>0.58482</td>\n",
       "      <td>0.003992</td>\n",
       "      <td>3.384545</td>\n",
       "      <td>0.048862</td>\n",
       "    </tr>\n",
       "  </tbody>\n",
       "</table>\n",
       "</div>"
      ],
      "text/plain": [
       "                                  Edge Cluster Deviation      pval     zscore  \\\n",
       "r_RB_FZD                      r_RB_FZD       4  -2.84029  0.000998  -5.128373   \n",
       "r_RB_CDC2                    r_RB_CDC2       4  -2.39769  0.000998  -4.800955   \n",
       "r_CYCLINB1_MKK36      r_CYCLINB1_MKK36       5   -1.5541  0.000998  -5.881456   \n",
       "r_LRP6_BMPR                r_LRP6_BMPR       1 -0.791361  0.000998  -4.720422   \n",
       "r_BMPR_BMP                  r_BMPR_BMP       1  -0.73622  0.000998  -3.525611   \n",
       "r_H3_CREB                    r_H3_CREB       5 -0.585225  0.000998  -5.023098   \n",
       "r_CREB_LRP6                r_CREB_LRP6       1    0.4373  0.000998   3.247250   \n",
       "r_H2A_RB                      r_H2A_RB       5  0.848201  0.000998  12.201358   \n",
       "r_CYCLINB1_MAPKAP2  r_CYCLINB1_MAPKAP2       5  0.858057  0.000998   6.204599   \n",
       "r_LRP6_BMPR                r_LRP6_BMPR       4  0.875544  0.000998   4.668448   \n",
       "r_JNK_BMPR                  r_JNK_BMPR       8   1.20716  0.000998   4.441203   \n",
       "p_ip70S6K.EGF_RPS6  p_ip70S6K.EGF_RPS6       2  0.222973  0.001996   3.122511   \n",
       "r_ERK12_EGFRY1045    r_ERK12_EGFRY1045       8   1.06414  0.001996   3.094966   \n",
       "r_RB_CDK4                    r_RB_CDK4       7   1.75082  0.001996   3.559928   \n",
       "r_MAPKAP2_LRP6          r_MAPKAP2_LRP6       8 -0.580363  0.002994  -2.955654   \n",
       "r_H3_CREB                    r_H3_CREB       1 -0.368574  0.002994  -3.075169   \n",
       "r_H2A_RB                      r_H2A_RB       4 -0.286759  0.002994  -3.472914   \n",
       "r_H2A_RB                      r_H2A_RB       8 -0.257225  0.002994  -3.327965   \n",
       "r_MAPKAP2_LRP6          r_MAPKAP2_LRP6       6  0.578871  0.002994   2.814695   \n",
       "r_SMAD15_FAK              r_SMAD15_FAK       3 -0.354413  0.003992  -2.638973   \n",
       "r_H2A_RB                      r_H2A_RB       7 -0.183501  0.003992  -3.146973   \n",
       "s_AKT1                          s_AKT1       7   0.38064  0.003992   2.498798   \n",
       "r_H3_CREB                    r_H3_CREB       9  0.507522  0.003992   3.195290   \n",
       "r_STAT1_SRC                r_STAT1_SRC       9  0.512409  0.003992   3.239354   \n",
       "r_CREB_P38                  r_CREB_P38       1   0.58482  0.003992   3.384545   \n",
       "\n",
       "                         fdr  \n",
       "r_RB_FZD            0.027763  \n",
       "r_RB_CDC2           0.027763  \n",
       "r_CYCLINB1_MKK36    0.027763  \n",
       "r_LRP6_BMPR         0.027763  \n",
       "r_BMPR_BMP          0.027763  \n",
       "r_H3_CREB           0.027763  \n",
       "r_CREB_LRP6         0.027763  \n",
       "r_H2A_RB            0.027763  \n",
       "r_CYCLINB1_MAPKAP2  0.027763  \n",
       "r_LRP6_BMPR         0.027763  \n",
       "r_JNK_BMPR          0.027763  \n",
       "p_ip70S6K.EGF_RPS6  0.043627  \n",
       "r_ERK12_EGFRY1045   0.043627  \n",
       "r_RB_CDK4           0.043627  \n",
       "r_MAPKAP2_LRP6      0.048219  \n",
       "r_H3_CREB           0.048219  \n",
       "r_H2A_RB            0.048219  \n",
       "r_H2A_RB            0.048219  \n",
       "r_MAPKAP2_LRP6      0.048219  \n",
       "r_SMAD15_FAK        0.048862  \n",
       "r_H2A_RB            0.048862  \n",
       "s_AKT1              0.048862  \n",
       "r_H3_CREB           0.048862  \n",
       "r_STAT1_SRC         0.048862  \n",
       "r_CREB_P38          0.048862  "
      ]
     },
     "execution_count": 22,
     "metadata": {},
     "output_type": "execute_result"
    }
   ],
   "source": [
    "def get_permutation_pvalue(df_sol, **kwargs):\n",
    "    # Get deviation from mean of edge in solution\n",
    "    var = df_sol.Edge\n",
    "    group = df_sol.Cluster\n",
    "    sol_val = df_sol.Deviation\n",
    "    \n",
    "    df_perm = kwargs['df_perm']\n",
    "    # Get distribion of deviations from mean of edge from permutations\n",
    "    perm_vals = abs(df_perm.loc[(df_perm.Edge == var) & (df_perm.Cluster == group), \"Deviation\"])\n",
    "    \n",
    "    n_larger = (abs(perm_vals) > abs(sol_val)).sum()\n",
    "    n_permutations = len(perm_vals)\n",
    "    pval = (n_larger + 1)/(n_permutations + 1)\n",
    "    return pval\n",
    "\n",
    "def get_permutation_zscore(df_sol, **kwargs):\n",
    "    # Get deviation from mean of edge in solution\n",
    "    var = df_sol.Edge\n",
    "    group = df_sol.Cluster\n",
    "    sol_val = df_sol.Deviation\n",
    "    \n",
    "    df_perm = kwargs['df_perm']\n",
    "    # Get distribion of deviations from mean of edge from permutations\n",
    "    perm_vals = df_perm.loc[(df_perm.Edge == var) & (df_perm.Cluster == group), \"Deviation\"]\n",
    "    zscore = (sol_val - perm_vals.mean())/perm_vals.std()\n",
    "    \n",
    "    return zscore\n",
    "\n",
    "\n",
    "\n",
    "sol_dev_tidy['pval'] = sol_dev_tidy.apply(\n",
    "    get_permutation_pvalue,  \n",
    "    df_perm = perm_dev_tidy, axis=1\n",
    ")\n",
    "\n",
    "\n",
    "sol_dev_tidy['zscore'] = sol_dev_tidy.apply(\n",
    "    get_permutation_zscore,  \n",
    "    df_perm = perm_dev_tidy, axis=1\n",
    ")\n",
    "\n",
    "sol_dev_tidy = sol_dev_tidy.sort_values(by=[\"pval\", \"Deviation\"])\n",
    "#sol_dev.Cluster = pd.Series(sol_dev.Cluster, dtype=\"ch\")\n",
    "sol_dev_tidy[\"fdr\"] = statsmodels.stats.multitest.multipletests(\n",
    "    sol_dev_tidy.pval, method=\"fdr_bh\")[1]\n",
    "sol_dev_tidy[sol_dev_tidy.fdr < 0.05]"
   ]
  },
  {
   "cell_type": "code",
   "execution_count": 23,
   "metadata": {},
   "outputs": [
    {
     "data": {
      "text/html": [
       "<div>\n",
       "<style scoped>\n",
       "    .dataframe tbody tr th:only-of-type {\n",
       "        vertical-align: middle;\n",
       "    }\n",
       "\n",
       "    .dataframe tbody tr th {\n",
       "        vertical-align: top;\n",
       "    }\n",
       "\n",
       "    .dataframe thead th {\n",
       "        text-align: right;\n",
       "    }\n",
       "</style>\n",
       "<table border=\"1\" class=\"dataframe\">\n",
       "  <thead>\n",
       "    <tr style=\"text-align: right;\">\n",
       "      <th></th>\n",
       "      <th>Edge</th>\n",
       "      <th>Cluster</th>\n",
       "      <th>Deviation</th>\n",
       "      <th>pval</th>\n",
       "      <th>zscore</th>\n",
       "      <th>fdr</th>\n",
       "    </tr>\n",
       "  </thead>\n",
       "  <tbody>\n",
       "    <tr>\n",
       "      <th>r_CYCLINB1_MAPKAP2</th>\n",
       "      <td>r_CYCLINB1_MAPKAP2</td>\n",
       "      <td>5</td>\n",
       "      <td>0.858057</td>\n",
       "      <td>0.000998</td>\n",
       "      <td>6.204599</td>\n",
       "      <td>0.027763</td>\n",
       "    </tr>\n",
       "  </tbody>\n",
       "</table>\n",
       "</div>"
      ],
      "text/plain": [
       "                                  Edge Cluster Deviation      pval    zscore  \\\n",
       "r_CYCLINB1_MAPKAP2  r_CYCLINB1_MAPKAP2       5  0.858057  0.000998  6.204599   \n",
       "\n",
       "                         fdr  \n",
       "r_CYCLINB1_MAPKAP2  0.027763  "
      ]
     },
     "execution_count": 23,
     "metadata": {},
     "output_type": "execute_result"
    }
   ],
   "source": [
    "sol_dev_tidy[(sol_dev_tidy.Edge == \"r_CYCLINB1_MAPKAP2\") & (sol_dev_tidy.Cluster == \"5\")]"
   ]
  },
  {
   "cell_type": "code",
   "execution_count": 25,
   "metadata": {},
   "outputs": [],
   "source": [
    "sol_dev_tidy.to_csv(\"../results/cnr-sampleperm-pvals.tsv\", sep=\"\\t\")"
   ]
  },
  {
   "cell_type": "code",
   "execution_count": 24,
   "metadata": {},
   "outputs": [
    {
     "data": {
      "image/png": "[encoded data removed]",
      "text/plain": [
       "<Figure size 144x216 with 1 Axes>"
      ]
     },
     "metadata": {
      "needs_background": "light"
     },
     "output_type": "display_data"
    }
   ],
   "source": [
    "tmp = sol_dev_tidy.copy(deep=True)\n",
    "tmp['logpval'] = -np.log10(tmp.pval)\n",
    "tmp[\"Cell state\"] = [str(c) for c in list(tmp.Cluster)]\n",
    "tmp.loc[tmp['fdr'] > 0.1, 'Cell state'] = 'gray' \n",
    "\n",
    "x_annot = float(tmp.loc[(tmp.Edge == \"r_CYCLINB1_MAPKAP2\") & (tmp.Cluster == \"5\"), \"Deviation\"])\n",
    "y_annot = float(tmp.loc[(tmp.Edge == \"r_CYCLINB1_MAPKAP2\") & (tmp.Cluster == \"5\"), \"logpval\"])\n",
    "\n",
    "pltheight = 3\n",
    "pltwidth = 2.\n",
    "\n",
    "plt.rcParams.update({'font.size': 6})\n",
    "\n",
    "colors = [\n",
    " \"#1C5DAB\", \"#ED1C24\", \"#1B9948\",\"#ED579A\", \"#F36D21\", \"#3E96D2\", \"#A0C73A\", \"#FCC014\", \"#14A08C\", \"gray\"\n",
    "]\n",
    "\n",
    "customPalette = sns.set_palette(sns.color_palette(colors))\n",
    "\n",
    "sns.lmplot(\n",
    "    x = \"Deviation\",y = \"logpval\", data = tmp, \n",
    "    hue = \"Cell state\", fit_reg=False, legend=False,\n",
    "    scatter_kws={\"s\": 15, \"edgecolor\": None, \"linewidths\": 0},\n",
    "    hue_order = [\"1\", \"2\", \"3\", \"4\", \"5\", \"6\", \"7\", \"8\", \"9\", \"gray\"],\n",
    "    palette=customPalette,\n",
    "    height=pltheight, aspect=pltwidth/pltheight\n",
    ");\n",
    "plt.text(x_annot, y_annot+0.1, r'MAPKAPK2$\\rightarrow$Cyclin B1',\n",
    "         horizontalalignment='center', color=\"#F36D21\")\n",
    "plt.xlabel(\"Edge strength deviation\\nfrom population mean\");\n",
    "plt.ylabel(\"-log10(p-value)\");\n",
    "#ax.spines['top'].set_visible(False)\n",
    "#ax.spines[\"right\"].set_visible(False)\n",
    "plt.tight_layout();\n",
    "plt.savefig(\"../figures/scIDseq/CNR/volcano-plot-MAPKAPK2.pdf\")\n"
   ]
  },
  {
   "cell_type": "code",
   "execution_count": 26,
   "metadata": {},
   "outputs": [
    {
     "data": {
      "image/png": "[encoded data removed]",
      "text/plain": [
       "<Figure size 180x216 with 1 Axes>"
      ]
     },
     "metadata": {
      "needs_background": "light"
     },
     "output_type": "display_data"
    }
   ],
   "source": [
    "edge = \"r_CYCLINB1_MAPKAP2\"\n",
    "\n",
    "def swamplot_permutations(df_sol, df_perm, var):\n",
    "\n",
    "    tmp = df_perm.drop(\"mean\", axis=1).loc[var].melt()\n",
    "    tmp.variable = pd.Series(tmp.variable, dtype=\"category\")\n",
    "    \n",
    "    \n",
    "    fig, ax = plt.subplots()\n",
    "    fig.set_size_inches(2.5, 3);\n",
    "    plt.axvline(x=0, color=\"black\")\n",
    "    sns.swarmplot(\n",
    "        y = \"variable\", x = \"value\", data=tmp, color = \"gray\", s=0.5\n",
    "    )\n",
    "    sns.boxplot(\n",
    "        y = \"variable\", x = \"value\", data=tmp, color = \"darkgray\",\n",
    "        boxprops={'facecolor':'None'}, width=0.2, showfliers = False, linewidth=1\n",
    "    )\n",
    "    sns.scatterplot(\n",
    "        y = \"variable\", x = \"value\", \n",
    "        data = df_sol.deviations_overview.loc[[var]].melt(),\n",
    "        color = \"red\", s = 50#, alpha=1\n",
    "    )\n",
    "\n",
    "    plt.ylabel(\"Cell state cluster\");\n",
    "    plt.xlabel(\"Edge strength\");\n",
    "    plt.title(var);\n",
    "    ax.spines['top'].set_visible(False)\n",
    "    ax.spines[\"right\"].set_visible(False)\n",
    "\n",
    "\n",
    "    return plt\n",
    "\n",
    "\n",
    "plt = swamplot_permutations(sol_ref, df_permutations, edge)\n",
    "plt.title(r'MAPKAPK2$\\rightarrow$Cyclin B1', fontsize=8);\n",
    "plt.tight_layout();\n",
    "# plt.savefig(\"../figures/scIDseq/CNR/r_CYCLINB1_MAPKAP2.pdf\")\n"
   ]
  },
  {
   "cell_type": "code",
   "execution_count": 27,
   "metadata": {},
   "outputs": [
    {
     "data": {
      "image/png": "[encoded data removed]",
      "text/plain": [
       "<Figure size 180x216 with 1 Axes>"
      ]
     },
     "metadata": {
      "needs_background": "light"
     },
     "output_type": "display_data"
    }
   ],
   "source": [
    "swamplot_permutations(sol_ref, df_permutations, \"r_ERK12_MAPKAP2\");"
   ]
  },
  {
   "cell_type": "code",
   "execution_count": 28,
   "metadata": {},
   "outputs": [
    {
     "data": {
      "image/png": "[encoded data removed]",
      "text/plain": [
       "<Figure size 180x216 with 1 Axes>"
      ]
     },
     "metadata": {
      "needs_background": "light"
     },
     "output_type": "display_data"
    }
   ],
   "source": [
    "swamplot_permutations(sol_ref, df_permutations, \"r_ERK12_EGFRY1045\");"
   ]
  },
  {
   "cell_type": "code",
   "execution_count": 29,
   "metadata": {},
   "outputs": [
    {
     "data": {
      "image/png": "[encoded data removed]",
      "text/plain": [
       "<Figure size 180x216 with 1 Axes>"
      ]
     },
     "metadata": {
      "needs_background": "light"
     },
     "output_type": "display_data"
    }
   ],
   "source": [
    "swamplot_permutations(sol_ref, df_permutations, \"r_H2A_RB\");"
   ]
  },
  {
   "cell_type": "markdown",
   "metadata": {},
   "source": [
    "#### Cell state resolved enrichment analysis\n",
    "\n",
    "We can also test for enrichment in a more fine-grained manner. \n",
    "To this end, we can test if nodes that show a significant interaction term in a specific cluster (i.e. not from the ANOVA but from the regression analysis).\n",
    "The downside of this analysis is that the results depend on the reference cluster for the regression analysis.\n",
    "\n",
    "Let's first use cluster 1 as reference cluster."
   ]
  },
  {
   "cell_type": "code",
   "execution_count": 31,
   "metadata": {},
   "outputs": [
    {
     "data": {
      "text/html": [
       "<div>\n",
       "<style scoped>\n",
       "    .dataframe tbody tr th:only-of-type {\n",
       "        vertical-align: middle;\n",
       "    }\n",
       "\n",
       "    .dataframe tbody tr th {\n",
       "        vertical-align: top;\n",
       "    }\n",
       "\n",
       "    .dataframe thead th {\n",
       "        text-align: right;\n",
       "    }\n",
       "</style>\n",
       "<table border=\"1\" class=\"dataframe\">\n",
       "  <thead>\n",
       "    <tr style=\"text-align: right;\">\n",
       "      <th></th>\n",
       "      <th>ab_name</th>\n",
       "      <th>term</th>\n",
       "      <th>cluster</th>\n",
       "      <th>treatment</th>\n",
       "      <th>estimate</th>\n",
       "      <th>std.error</th>\n",
       "      <th>statistic</th>\n",
       "      <th>p.value</th>\n",
       "      <th>fdr</th>\n",
       "      <th>term_type</th>\n",
       "      <th>node</th>\n",
       "    </tr>\n",
       "  </thead>\n",
       "  <tbody>\n",
       "    <tr>\n",
       "      <th>0</th>\n",
       "      <td>H3_P</td>\n",
       "      <td>cluster5:treatmentiRSK_EGF</td>\n",
       "      <td>5</td>\n",
       "      <td>iRSK_EGF</td>\n",
       "      <td>-2.306481</td>\n",
       "      <td>0.366220</td>\n",
       "      <td>-6.298080</td>\n",
       "      <td>6.429544e-10</td>\n",
       "      <td>3.242994e-08</td>\n",
       "      <td>interaction</td>\n",
       "      <td>H3</td>\n",
       "    </tr>\n",
       "    <tr>\n",
       "      <th>1</th>\n",
       "      <td>CYCLIN_E</td>\n",
       "      <td>cluster9:treatmentip70S6K_EGF</td>\n",
       "      <td>9</td>\n",
       "      <td>ip70S6K_EGF</td>\n",
       "      <td>2.112157</td>\n",
       "      <td>0.390883</td>\n",
       "      <td>5.403559</td>\n",
       "      <td>9.971879e-08</td>\n",
       "      <td>3.096268e-06</td>\n",
       "      <td>interaction</td>\n",
       "      <td>CYCLINE</td>\n",
       "    </tr>\n",
       "    <tr>\n",
       "      <th>2</th>\n",
       "      <td>JAK1_P</td>\n",
       "      <td>cluster9:treatmentip70S6K_EGF</td>\n",
       "      <td>9</td>\n",
       "      <td>ip70S6K_EGF</td>\n",
       "      <td>1.654364</td>\n",
       "      <td>0.385520</td>\n",
       "      <td>4.291252</td>\n",
       "      <td>2.120030e-05</td>\n",
       "      <td>3.211069e-04</td>\n",
       "      <td>interaction</td>\n",
       "      <td>JAK1</td>\n",
       "    </tr>\n",
       "    <tr>\n",
       "      <th>3</th>\n",
       "      <td>NFKB_P65_P</td>\n",
       "      <td>cluster9:treatmentip70S6K_EGF</td>\n",
       "      <td>9</td>\n",
       "      <td>ip70S6K_EGF</td>\n",
       "      <td>1.392239</td>\n",
       "      <td>0.355285</td>\n",
       "      <td>3.918652</td>\n",
       "      <td>1.009683e-04</td>\n",
       "      <td>1.279618e-03</td>\n",
       "      <td>interaction</td>\n",
       "      <td>P65</td>\n",
       "    </tr>\n",
       "    <tr>\n",
       "      <th>5</th>\n",
       "      <td>STAT5_P</td>\n",
       "      <td>cluster9:treatmentip70S6K_EGF</td>\n",
       "      <td>9</td>\n",
       "      <td>ip70S6K_EGF</td>\n",
       "      <td>1.431129</td>\n",
       "      <td>0.375202</td>\n",
       "      <td>3.814291</td>\n",
       "      <td>1.530062e-04</td>\n",
       "      <td>1.850978e-03</td>\n",
       "      <td>interaction</td>\n",
       "      <td>STAT5</td>\n",
       "    </tr>\n",
       "  </tbody>\n",
       "</table>\n",
       "</div>"
      ],
      "text/plain": [
       "      ab_name                           term  cluster    treatment  estimate  \\\n",
       "0        H3_P     cluster5:treatmentiRSK_EGF        5     iRSK_EGF -2.306481   \n",
       "1    CYCLIN_E  cluster9:treatmentip70S6K_EGF        9  ip70S6K_EGF  2.112157   \n",
       "2      JAK1_P  cluster9:treatmentip70S6K_EGF        9  ip70S6K_EGF  1.654364   \n",
       "3  NFKB_P65_P  cluster9:treatmentip70S6K_EGF        9  ip70S6K_EGF  1.392239   \n",
       "5     STAT5_P  cluster9:treatmentip70S6K_EGF        9  ip70S6K_EGF  1.431129   \n",
       "\n",
       "   std.error  statistic       p.value           fdr    term_type     node  \n",
       "0   0.366220  -6.298080  6.429544e-10  3.242994e-08  interaction       H3  \n",
       "1   0.390883   5.403559  9.971879e-08  3.096268e-06  interaction  CYCLINE  \n",
       "2   0.385520   4.291252  2.120030e-05  3.211069e-04  interaction     JAK1  \n",
       "3   0.355285   3.918652  1.009683e-04  1.279618e-03  interaction      P65  \n",
       "5   0.375202   3.814291  1.530062e-04  1.850978e-03  interaction    STAT5  "
      ]
     },
     "execution_count": 31,
     "metadata": {},
     "output_type": "execute_result"
    }
   ],
   "source": [
    "df_ia_c1 = pd.read_csv(\"../results/treatment_cellstate_interactions.tsv\", sep=\"\\t\")\n",
    "\n",
    "# Only keep ABs that map to a node\n",
    "df_ia_c1 = df_ia_c1[[ab in list(ab_mapping_phospho.keys()) for ab in df_ia_c1.ab_name]]\n",
    "\n",
    "# Make sure nodes are consistent between analyses\n",
    "assert set(sol.nodes) == set(ab_mapping_phospho.values())\n",
    "\n",
    "# Add column with node name \n",
    "df_ia_c1['node'] = [ab_mapping_phospho[ab] for ab in df_ia_c1.ab_name]\n",
    "df_ia_c1.head()\n"
   ]
  },
  {
   "cell_type": "markdown",
   "metadata": {},
   "source": [
    "##### Per cluster edge enrichment"
   ]
  },
  {
   "cell_type": "markdown",
   "metadata": {},
   "source": [
    "How many nodes show cell state dependent drug response?"
   ]
  },
  {
   "cell_type": "code",
   "execution_count": 32,
   "metadata": {},
   "outputs": [
    {
     "data": {
      "image/png": "[encoded data removed]",
      "text/plain": [
       "<Figure size 432x288 with 1 Axes>"
      ]
     },
     "metadata": {
      "needs_background": "light"
     },
     "output_type": "display_data"
    }
   ],
   "source": [
    "plt.hist(df_ia_c1.cluster);"
   ]
  },
  {
   "cell_type": "code",
   "execution_count": 33,
   "metadata": {},
   "outputs": [
    {
     "data": {
      "text/html": [
       "<div>\n",
       "<style scoped>\n",
       "    .dataframe tbody tr th:only-of-type {\n",
       "        vertical-align: middle;\n",
       "    }\n",
       "\n",
       "    .dataframe tbody tr th {\n",
       "        vertical-align: top;\n",
       "    }\n",
       "\n",
       "    .dataframe thead th {\n",
       "        text-align: right;\n",
       "    }\n",
       "</style>\n",
       "<table border=\"1\" class=\"dataframe\">\n",
       "  <thead>\n",
       "    <tr style=\"text-align: right;\">\n",
       "      <th></th>\n",
       "      <th>connected to node with interaction</th>\n",
       "      <th>not connected to node with interaction</th>\n",
       "    </tr>\n",
       "  </thead>\n",
       "  <tbody>\n",
       "    <tr>\n",
       "      <th>edges deviating</th>\n",
       "      <td>19</td>\n",
       "      <td>23</td>\n",
       "    </tr>\n",
       "    <tr>\n",
       "      <th>edges nondeviating</th>\n",
       "      <td>183</td>\n",
       "      <td>567</td>\n",
       "    </tr>\n",
       "  </tbody>\n",
       "</table>\n",
       "</div>"
      ],
      "text/plain": [
       "                    connected to node with interaction  \\\n",
       "edges deviating                                     19   \n",
       "edges nondeviating                                 183   \n",
       "\n",
       "                    not connected to node with interaction  \n",
       "edges deviating                                         23  \n",
       "edges nondeviating                                     567  "
      ]
     },
     "execution_count": 33,
     "metadata": {},
     "output_type": "execute_result"
    }
   ],
   "source": [
    "# For each cluster (except the reference cluster)\n",
    "de_ia = [] # Deviating and interaction\n",
    "de_nia = [] # Deviating, no interaction\n",
    "nde_ia = [] # Not deviating, interaction\n",
    "nde_nia = [] # Not deviating, no interaction\n",
    "\n",
    "for cluster in set(df_ia_c1.cluster):\n",
    "    # Get nodes with a significant interaction term in that cluster\n",
    "    ia_nodes_cluster = set(df_ia_c1[df_ia_c1.cluster == cluster].node)\n",
    "\n",
    "    # Get significant deviating edges in that cluster\n",
    "    dev_pars = set(sol_dev_tidy[(sol_dev_tidy.pval < 0.05) & (sol_dev_tidy.Cluster == str(cluster))].Edge)\n",
    "    dev_edges_cluster = set([tuple(par.split(\"_\")[1:]) for par in dev_pars if par.startswith(\"r_\")])\n",
    "    nondev_edges_cluster = set(all_edges) - set(dev_edges_cluster)\n",
    "    # Update contingency table entries.\n",
    "    for edge in dev_edges_cluster:\n",
    "        if bool(ia_nodes_cluster.intersection(edge)):\n",
    "            de_ia.append(edge)\n",
    "        else:\n",
    "            de_nia.append(edge)\n",
    "\n",
    "    for edge in nondev_edges_cluster:\n",
    "        if bool(ia_nodes_cluster.intersection(edge)):\n",
    "            nde_ia.append(edge)\n",
    "        else:\n",
    "            nde_nia.append(edge)\n",
    "\n",
    "    # # Some sanity checks\n",
    "    # assert len(de_ia) + len(de_nia) == len(dev_edges_cluster)        \n",
    "    # assert len(nde_ia) + len(nde_nia) == len(nondev_edges_cluster)        \n",
    "\n",
    "cont_table_edges_cluster = [[len(de_ia), len(de_nia)], [len(nde_ia), len(nde_nia)]]\n",
    "\n",
    "pd.DataFrame(\n",
    "    cont_table_edges_cluster, \n",
    "    index = [\"edges deviating\", \"edges nondeviating\"],\n",
    "    columns = [\"connected to node with interaction\", \"not connected to node with interaction\"]\n",
    ")\n",
    "# Nodes with significant interaction term\n",
    "#ia_nodes = set([ab_mapping_phospho[i] for i in list(df_ia.ab_name) if i in ab_mapping_phospho.keys()])"
   ]
  },
  {
   "cell_type": "markdown",
   "metadata": {},
   "source": [
    "Compared to the overall analysis, we find a more significant results, but with a better odds-ratio. "
   ]
  },
  {
   "cell_type": "code",
   "execution_count": 34,
   "metadata": {},
   "outputs": [
    {
     "data": {
      "text/plain": [
       "(2.559515324305061, 0.0034405093516569206)"
      ]
     },
     "execution_count": 34,
     "metadata": {},
     "output_type": "execute_result"
    }
   ],
   "source": [
    "scipy.stats.fisher_exact(cont_table_edges_cluster, alternative = \"greater\")"
   ]
  },
  {
   "cell_type": "code",
   "execution_count": 36,
   "metadata": {},
   "outputs": [
    {
     "data": {
      "image/png": "[encoded data removed]",
      "text/plain": [
       "<Figure size 108x288 with 1 Axes>"
      ]
     },
     "metadata": {},
     "output_type": "display_data"
    }
   ],
   "source": [
    "bars = [\"Edges that differ\\nbetween cell states\", \"Edges that do not differ\\nbetween cell states\"]\n",
    "prop_table_edges_cluster = [\n",
    "    [x/sum(cont_table_edges_cluster[0]) for x in cont_table_edges_cluster[0]],\n",
    "    [x/sum(cont_table_edges_cluster[1]) for x in cont_table_edges_cluster[1]]\n",
    "]\n",
    "red_bars = [v[0] for v in prop_table_edges_cluster]\n",
    "gray_bars = [v[1] for v in prop_table_edges_cluster]\n",
    "\n",
    "\n",
    "barWidth = 0.9\n",
    "fig, ax = plt.subplots()\n",
    "fig.set_size_inches(1.5, 4);\n",
    "plt.bar(bars, red_bars, color=\"mediumorchid\", width=barWidth, label=\"Yes\")\n",
    "plt.bar(bars, gray_bars, bottom=red_bars, color=\"lightgray\", width=barWidth, label=\"No\")\n",
    "plt.ylabel(\"Fraction\", fontsize=8)\n",
    "ax.get_xticklabels()[0].set_color(\"firebrick\")\n",
    "ax.get_xticklabels()[1].set_color(\"gray\")\n",
    "ax.spines['top'].set_visible(False)\n",
    "ax.spines[\"right\"].set_visible(False)\n",
    "plt.xticks(rotation=45, ha=\"right\")\n",
    "plt.tick_params(axis=\"x\", bottom=False)\n",
    "plt.legend(loc='upper left', bbox_to_anchor=(-0.5,1.25), ncol=1, \n",
    "           frameon=False, prop={'size': 6}, \n",
    "           title = \"Connected to node with\\nsignificant interaction term\",\n",
    "          title_fontsize=6);\n",
    "plt.tight_layout();"
   ]
  },
  {
   "cell_type": "markdown",
   "metadata": {},
   "source": [
    "##### Per cluster node enrichment"
   ]
  },
  {
   "cell_type": "code",
   "execution_count": 37,
   "metadata": {},
   "outputs": [
    {
     "data": {
      "text/html": [
       "<div>\n",
       "<style scoped>\n",
       "    .dataframe tbody tr th:only-of-type {\n",
       "        vertical-align: middle;\n",
       "    }\n",
       "\n",
       "    .dataframe tbody tr th {\n",
       "        vertical-align: top;\n",
       "    }\n",
       "\n",
       "    .dataframe thead th {\n",
       "        text-align: right;\n",
       "    }\n",
       "</style>\n",
       "<table border=\"1\" class=\"dataframe\">\n",
       "  <thead>\n",
       "    <tr style=\"text-align: right;\">\n",
       "      <th></th>\n",
       "      <th>Incoming deviating edge</th>\n",
       "      <th>No non-deviating edge</th>\n",
       "    </tr>\n",
       "  </thead>\n",
       "  <tbody>\n",
       "    <tr>\n",
       "      <th>Nodes with interaction</th>\n",
       "      <td>13</td>\n",
       "      <td>41</td>\n",
       "    </tr>\n",
       "    <tr>\n",
       "      <th>Nodes without interaction</th>\n",
       "      <td>23</td>\n",
       "      <td>259</td>\n",
       "    </tr>\n",
       "  </tbody>\n",
       "</table>\n",
       "</div>"
      ],
      "text/plain": [
       "                           Incoming deviating edge  No non-deviating edge\n",
       "Nodes with interaction                          13                     41\n",
       "Nodes without interaction                       23                    259"
      ]
     },
     "execution_count": 37,
     "metadata": {},
     "output_type": "execute_result"
    }
   ],
   "source": [
    "# For each cluster (except the reference cluster)\n",
    "ia_idev = [] # Node has interaction and incoming deviation edge\n",
    "ia_nidev = [] # Node has interaction, no incoming deviation edge\n",
    "nia_idev = [] # Interaction, no deviating edge incoming\n",
    "nia_nidev = [] # No interaction, no deviating edge incoming\n",
    "\n",
    "for cluster in set(df_ia_c1.cluster):\n",
    "    # Get nodes with a significant interaction term in that cluster\n",
    "    ia_nodes_cluster = set(df_ia_c1[df_ia_c1.cluster == cluster].node)\n",
    "    nia_nodes_cluster = set(all_nodes) - ia_nodes_cluster\n",
    "    \n",
    "    # Get significant deviating edges in that cluster\n",
    "    dev_pars = set(sol_dev_tidy[(sol_dev_tidy.pval < 0.05) & (sol_dev_tidy.Cluster == str(cluster))].Edge)\n",
    "    dev_edges_cluster = set([tuple(par.split(\"_\")[1:]) for par in dev_pars if par.startswith(\"r_\")])\n",
    "    nondev_edges_cluster = set(all_edges) - set(dev_edges_cluster)\n",
    "\n",
    "    # Nodes with incoming edge deviating\n",
    "    idev = set([edge[0] for edge in dev_edges_cluster])\n",
    "    # Nodes without incoming edge deviating\n",
    "    nidev = set(all_nodes) - idev\n",
    "    \n",
    "    # Update the contingency table elements\n",
    "    ia_idev   += list(ia_nodes_cluster.intersection(idev))\n",
    "    ia_nidev  += list(ia_nodes_cluster.intersection(nidev))\n",
    "    \n",
    "    nia_idev  += list(nia_nodes_cluster.intersection(idev))\n",
    "    nia_nidev += list(nia_nodes_cluster.intersection(nidev))\n",
    "    \n",
    "\n",
    "        \n",
    "\n",
    "cont_table_nodes_cluster = [\n",
    "    [len(ia_idev),  len(ia_nidev)],\n",
    "    [len(nia_idev), len(nia_nidev)]]\n",
    "\n",
    "\n",
    "pd.DataFrame(cont_table_nodes_cluster, \n",
    "             index = [\"Nodes with interaction\", \"Nodes without interaction\"],\n",
    "             columns = [\"Incoming deviating edge\", \"No non-deviating edge\"]\n",
    "            )"
   ]
  },
  {
   "cell_type": "code",
   "execution_count": 38,
   "metadata": {},
   "outputs": [
    {
     "data": {
      "text/plain": [
       "(3.570519618239661, 0.0015083114636652972)"
      ]
     },
     "execution_count": 38,
     "metadata": {},
     "output_type": "execute_result"
    }
   ],
   "source": [
    "scipy.stats.fisher_exact(cont_table_nodes_cluster, alternative = \"greater\")"
   ]
  },
  {
   "cell_type": "code",
   "execution_count": 41,
   "metadata": {},
   "outputs": [
    {
     "data": {
      "image/png": "[encoded data removed]",
      "text/plain": [
       "<Figure size 108x288 with 1 Axes>"
      ]
     },
     "metadata": {},
     "output_type": "display_data"
    }
   ],
   "source": [
    "bars = [\"Nodes with significant\\ninteraction term\", \"Nodes without significant\\ninteraction term\"]\n",
    "prop_table_edges = [\n",
    "    [x/sum(cont_table_nodes_cluster[0]) for x in cont_table_nodes_cluster[0]],\n",
    "    [x/sum(cont_table_nodes_cluster[1]) for x in cont_table_nodes_cluster[1]]\n",
    "]\n",
    "red_bars = [v[0] for v in prop_table_edges]\n",
    "gray_bars = [v[1] for v in prop_table_edges]\n",
    "\n",
    "matplotlib.rc('xtick', labelsize=6) \n",
    "matplotlib.rc('ytick', labelsize=6) \n",
    "matplotlib.rc('legend',**{'fontsize':6})\n",
    "\n",
    "barWidth = 0.9\n",
    "fig, ax = plt.subplots()\n",
    "fig.set_size_inches(1.5, 4);\n",
    "plt.bar(bars, red_bars, color=\"firebrick\", width=barWidth, label=\"Yes\")\n",
    "plt.bar(bars, gray_bars, bottom=red_bars, color=\"lightgray\", width=barWidth, label=\"No\")\n",
    "plt.ylabel(\"Fraction\", fontsize=8)\n",
    "ax.get_xticklabels()[0].set_color(\"mediumorchid\")\n",
    "ax.get_xticklabels()[1].set_color(\"gray\")\n",
    "ax.spines['top'].set_visible(False)\n",
    "ax.spines[\"right\"].set_visible(False)\n",
    "plt.xticks(rotation=45, ha=\"right\")\n",
    "plt.tick_params(axis=\"x\", bottom=False)\n",
    "plt.legend(loc='upper left', bbox_to_anchor=(-0.5,1.25), ncol=1, \n",
    "           frameon=False, prop={'size': 6}, \n",
    "           title = \"Incoming edge that differs\\nbetween cell states\",\n",
    "          title_fontsize=6);\n",
    "plt.tight_layout();"
   ]
  },
  {
   "cell_type": "markdown",
   "metadata": {},
   "source": [
    "### Bootstrapping analysis"
   ]
  },
  {
   "cell_type": "code",
   "execution_count": 25,
   "metadata": {},
   "outputs": [],
   "source": [
    "with open('../../results/scIDseq/bootstraps/cnr_full.pickle', 'rb') as f:\n",
    "    sol_bootstraps = pickle.load(f)\n"
   ]
  },
  {
   "cell_type": "code",
   "execution_count": 26,
   "metadata": {},
   "outputs": [
    {
     "data": {
      "text/plain": [
       "51"
      ]
     },
     "execution_count": 26,
     "metadata": {},
     "output_type": "execute_result"
    }
   ],
   "source": [
    "len(sol_bootstraps)"
   ]
  },
  {
   "cell_type": "code",
   "execution_count": 27,
   "metadata": {},
   "outputs": [],
   "source": [
    "df_bootstraps = pd.concat([s.deviations_overview for s in sol_bootstraps])\n",
    "recur_diffs_bootstraps = df_bootstraps.index.value_counts()/len(sol_bootstraps)\n",
    "recur_diffs_bootstraps = pd.DataFrame({\"fraction\": recur_diffs_bootstraps})\n",
    "recur_diffs_bootstraps = recur_diffs_bootstraps.loc[sol_ref.deviations_overview.index]\n",
    "recur_diffs_bootstraps['rank'] = recur_diffs_bootstraps.fraction.rank(method=\"first\", ascending=False)"
   ]
  },
  {
   "cell_type": "code",
   "execution_count": 29,
   "metadata": {},
   "outputs": [
    {
     "data": {
      "image/png": "[encoded data removed]",
      "text/plain": [
       "<Figure size 180x144 with 1 Axes>"
      ]
     },
     "metadata": {
      "needs_background": "light"
     },
     "output_type": "display_data"
    }
   ],
   "source": [
    "fig = matplotlib.pyplot.gcf()\n",
    "fig.set_size_inches(2.5, 2)\n",
    "plt.scatter(recur_diffs_bootstraps['rank'], recur_diffs_bootstraps.fraction,\n",
    "    color='black', s=5);\n",
    "#plt.xticks(list(recur_diffs_bootstraps.index))\n",
    "plt.xlabel(\"Rank\");\n",
    "plt.ylim(0);\n",
    "plt.ylabel(\"Fraction of bootstraps in which\\nedge-deviation occurs\");\n",
    "plt.tight_layout()\n",
    "fig.savefig('../../figures/scIDseq/CNR/bootstrap-fractions.pdf', dpi=100)\n"
   ]
  },
  {
   "cell_type": "code",
   "execution_count": 22,
   "metadata": {},
   "outputs": [
    {
     "data": {
      "image/png": "[encoded data removed]",
      "text/plain": [
       "<Figure size 144x144 with 1 Axes>"
      ]
     },
     "metadata": {
      "needs_background": "light"
     },
     "output_type": "display_data"
    }
   ],
   "source": [
    "def plot_cnr_all(par):\n",
    "    fig = matplotlib.pyplot.gcf()\n",
    "    fig.set_size_inches(2, 2)\n",
    "    sns.boxplot(\n",
    "        x=\"variable\", y=\"value\",  data = pd.melt(df_bootstraps.loc[par]),\n",
    "        order=[\"1\", \"2\", \"3\", \"4\", \"5\", \"6\", \"7\", \"8\", \"9\"],\n",
    "        linewidth=1, color='w', fliersize=2, width=0.5\n",
    "    );\n",
    "    plt.xlabel(\"\")\n",
    "    plt.ylabel(\"Edge strength\")\n",
    "    plt.axhline(0, c=\"black\", linewidth=1)\n",
    "    plt.title(par + \" bootstraps\", fontsize=8)\n",
    "    plt.tight_layout()\n",
    "    return fig\n",
    "plot_cnr_all(\"r_CYCLINB1_MAPKAP2\")\n",
    "plt.savefig('../../figures/scIDseq/CNR/bootstrap-r_CYCLINB1_MAPKAP2.pdf', dpi=100)"
   ]
  },
  {
   "cell_type": "markdown",
   "metadata": {},
   "source": [
    "### Highlight subnetwork"
   ]
  },
  {
   "cell_type": "code",
   "execution_count": null,
   "metadata": {},
   "outputs": [],
   "source": [
    "c5_sig_edges = sol_dev[(sol_dev.pval < 0.05) & (sol_dev.Cluster == \"5\")]['Edge']\n",
    "c5_sig_edges = [(n.split(\"_\")[2], n.split(\"_\")[1]) for n in list(c5_sig_edges)]\n"
   ]
  },
  {
   "cell_type": "code",
   "execution_count": null,
   "metadata": {},
   "outputs": [],
   "source": [
    "edge_lst = [] \n",
    "highlighted_nodes = [\"ERK12\", \"MAPKAP2\", \"RSK1T359\", \"RPS6\", \"CYCLINB1\"]\n",
    "for node in highlighted_nodes:\n",
    "    edge_lst += list(g.in_edges(node))\n",
    "sg = g.edge_subgraph(edge_lst)\n",
    "\n",
    "# Which nodes should be highlighted\n",
    "nx.set_node_attributes(\n",
    "    sg,\n",
    "    {n: str(n in highlighted_nodes) for n in sg.nodes()},\n",
    "    name=\"highlight\"\n",
    "    \n",
    ")\n",
    "\n",
    "nx.set_edge_attributes(\n",
    "    sg,\n",
    "    {e: str(e[0] in highlighted_nodes and e[1] in highlighted_nodes) for e in sg.edges()},\n",
    "    name=\"highlight\"\n",
    "    \n",
    ")\n",
    "\n",
    "\n",
    "nx.set_edge_attributes(sg, {e: str((e in c5_sig_edges)) for e in list(sg.edges())}, name = \"color\")\n",
    "\n",
    "\n",
    "nx.set_edge_attributes(\n",
    "    sg, {e: sol_ref.vardict[\"_\".join([\"r\", \"5\", e[1], e[0]])] for e in sg.edges()}, \n",
    "    name = \"strength\")\n",
    "\n",
    "\n",
    "\n",
    "\n",
    "nx.draw(sg, pos=node_positions, with_labels=True)\n",
    "nx.write_gml(sg, \"../../results/scIDseq/graph_highlight.gml\")"
   ]
  },
  {
   "cell_type": "code",
   "execution_count": null,
   "metadata": {
    "collapsed": true,
    "jupyter": {
     "outputs_hidden": true
    }
   },
   "outputs": [],
   "source": []
  }
 ],
 "metadata": {
  "kernelspec": {
   "display_name": "Python [conda env:sc-mra]",
   "language": "python",
   "name": "conda-env-sc-mra-py"
  },
  "language_info": {
   "codemirror_mode": {
    "name": "ipython",
    "version": 3
   },
   "file_extension": ".py",
   "mimetype": "text/x-python",
   "name": "python",
   "nbconvert_exporter": "python",
   "pygments_lexer": "ipython3",
   "version": "3.6.10"
  }
 },
 "nbformat": 4,
 "nbformat_minor": 4
}
